{
 "cells": [
  {
   "cell_type": "code",
   "execution_count": 32,
   "metadata": {},
   "outputs": [],
   "source": [
    "import numpy as np\n",
    "import matplotlib.pyplot as plt\n",
    "import torch\n",
    "import pandas as pd\n",
    "from scipy.misc import derivative\n",
    "import time"
   ]
  },
  {
   "cell_type": "code",
   "execution_count": 33,
   "metadata": {},
   "outputs": [
    {
     "data": {
      "text/html": [
       "<div>\n",
       "<style scoped>\n",
       "    .dataframe tbody tr th:only-of-type {\n",
       "        vertical-align: middle;\n",
       "    }\n",
       "\n",
       "    .dataframe tbody tr th {\n",
       "        vertical-align: top;\n",
       "    }\n",
       "\n",
       "    .dataframe thead th {\n",
       "        text-align: right;\n",
       "    }\n",
       "</style>\n",
       "<table border=\"1\" class=\"dataframe\">\n",
       "  <thead>\n",
       "    <tr style=\"text-align: right;\">\n",
       "      <th></th>\n",
       "      <th>y</th>\n",
       "      <th>x</th>\n",
       "    </tr>\n",
       "  </thead>\n",
       "  <tbody>\n",
       "    <tr>\n",
       "      <th>NaN</th>\n",
       "      <td>97.622270</td>\n",
       "      <td>1.0</td>\n",
       "    </tr>\n",
       "    <tr>\n",
       "      <th>NaN</th>\n",
       "      <td>97.807240</td>\n",
       "      <td>2.0</td>\n",
       "    </tr>\n",
       "    <tr>\n",
       "      <th>NaN</th>\n",
       "      <td>96.622470</td>\n",
       "      <td>3.0</td>\n",
       "    </tr>\n",
       "    <tr>\n",
       "      <th>NaN</th>\n",
       "      <td>92.590220</td>\n",
       "      <td>4.0</td>\n",
       "    </tr>\n",
       "    <tr>\n",
       "      <th>NaN</th>\n",
       "      <td>91.238690</td>\n",
       "      <td>5.0</td>\n",
       "    </tr>\n",
       "    <tr>\n",
       "      <th>...</th>\n",
       "      <td>...</td>\n",
       "      <td>...</td>\n",
       "    </tr>\n",
       "    <tr>\n",
       "      <th>NaN</th>\n",
       "      <td>8.362329</td>\n",
       "      <td>246.0</td>\n",
       "    </tr>\n",
       "    <tr>\n",
       "      <th>NaN</th>\n",
       "      <td>8.983658</td>\n",
       "      <td>247.0</td>\n",
       "    </tr>\n",
       "    <tr>\n",
       "      <th>NaN</th>\n",
       "      <td>3.362571</td>\n",
       "      <td>248.0</td>\n",
       "    </tr>\n",
       "    <tr>\n",
       "      <th>NaN</th>\n",
       "      <td>1.182746</td>\n",
       "      <td>249.0</td>\n",
       "    </tr>\n",
       "    <tr>\n",
       "      <th>NaN</th>\n",
       "      <td>4.875359</td>\n",
       "      <td>250.0</td>\n",
       "    </tr>\n",
       "  </tbody>\n",
       "</table>\n",
       "<p>250 rows × 2 columns</p>\n",
       "</div>"
      ],
      "text/plain": [
       "             y      x\n",
       "NaN  97.622270    1.0\n",
       "NaN  97.807240    2.0\n",
       "NaN  96.622470    3.0\n",
       "NaN  92.590220    4.0\n",
       "NaN  91.238690    5.0\n",
       "..         ...    ...\n",
       "NaN   8.362329  246.0\n",
       "NaN   8.983658  247.0\n",
       "NaN   3.362571  248.0\n",
       "NaN   1.182746  249.0\n",
       "NaN   4.875359  250.0\n",
       "\n",
       "[250 rows x 2 columns]"
      ]
     },
     "execution_count": 33,
     "metadata": {},
     "output_type": "execute_result"
    }
   ],
   "source": [
    "data= pd.read_csv(\"Gauss1_Data.txt\",names=['y','x'], sep=\" \")\n",
    "\n",
    "data"
   ]
  },
  {
   "cell_type": "code",
   "execution_count": 34,
   "metadata": {},
   "outputs": [],
   "source": [
    "y = torch.from_numpy(data['y'].to_numpy(np.float64))\n",
    "x = torch.from_numpy(data['x'].to_numpy(np.float64))\n",
    "\n",
    "# b = torch.tensor([10.0,-1.0,0.05,-0.00001,-0.05,0.001,-0.000001],requires_grad=True)\n",
    "b = torch.tensor([97.0,0.009,100.0,65.0,20.0,70.0,178.0,16.5],requires_grad=True)\n"
   ]
  },
  {
   "cell_type": "code",
   "execution_count": 35,
   "metadata": {},
   "outputs": [
    {
     "data": {
      "text/plain": [
       "[<matplotlib.lines.Line2D at 0x27025f42df0>]"
      ]
     },
     "execution_count": 35,
     "metadata": {},
     "output_type": "execute_result"
    },
    {
     "data": {
      "image/png": "[encoded data removed]",
      "text/plain": [
       "<Figure size 432x288 with 1 Axes>"
      ]
     },
     "metadata": {
      "needs_background": "light"
     },
     "output_type": "display_data"
    }
   ],
   "source": [
    "plt.plot(x.numpy(),y.numpy())"
   ]
  },
  {
   "cell_type": "code",
   "execution_count": 36,
   "metadata": {},
   "outputs": [
    {
     "name": "stdout",
     "output_type": "stream",
     "text": [
      "c:  0  error:  7371.720578441942  B: [[9.83712989e+01]\n",
      " [1.01435353e-02]\n",
      " [9.78875848e+01]\n",
      " [6.72216586e+01]\n",
      " [2.30980838e+01]\n",
      " [7.10615324e+01]\n",
      " [1.78978024e+02]\n",
      " [1.82682567e+01]]\n",
      "c:  1  error:  1473.813323298307  B: [[9.87671430e+01]\n",
      " [1.04779141e-02]\n",
      " [1.00316276e+02]\n",
      " [6.74859761e+01]\n",
      " [2.31377944e+01]\n",
      " [7.19204317e+01]\n",
      " [1.78999580e+02]\n",
      " [1.83899390e+01]]\n",
      "c:  2  error:  1316.4324176401662  B: [[9.87789168e+01]\n",
      " [1.04974561e-02]\n",
      " [1.00489190e+02]\n",
      " [6.74811875e+01]\n",
      " [2.31299779e+01]\n",
      " [7.19943296e+01]\n",
      " [1.78998044e+02]\n",
      " [1.83896468e+01]]\n",
      "c:  3  error:  1315.8222792616948  B: [[9.87782056e+01]\n",
      " [1.04972741e-02]\n",
      " [1.00489901e+02]\n",
      " [6.74811115e+01]\n",
      " [2.31297723e+01]\n",
      " [7.19944983e+01]\n",
      " [1.78998051e+02]\n",
      " [1.83893873e+01]]\n",
      "c:  4  error:  1315.822243206519  B: [[9.87782110e+01]\n",
      " [1.04972766e-02]\n",
      " [1.00489906e+02]\n",
      " [6.74811113e+01]\n",
      " [2.31297734e+01]\n",
      " [7.19945031e+01]\n",
      " [1.78998050e+02]\n",
      " [1.83893891e+01]]\n",
      "time taken to execute:  0.01804119999997056\n",
      "SD error is 7.700813572120039\n"
     ]
    }
   ],
   "source": [
    "## Numerical Differentiation\n",
    "\n",
    "b = np.array([97.0,0.009,100.0,65.0,20.0,70.0,178.0,16.5]).reshape(-1,1)\n",
    "\n",
    "x=x.detach().numpy()\n",
    "\n",
    "u=0.1 #beta multiply identity matrix\n",
    "beta = 10\n",
    "V_prev = 0\n",
    "    \n",
    "\n",
    "def f0(b0):\n",
    "    return  b0*np.exp(-b[1]*x) + b[2]*np.exp(-np.power((x-b[3]),2)/np.power(b[4],2)) + b[5]*np.exp(-np.power((x-b[6]),2)/np.power(b[7],2))-y.detach().numpy()  \n",
    "def f1(b1):\n",
    "    return  b[0]*np.exp(-b1*x) + b[2]*np.exp(-np.power((x-b[3]),2)/np.power(b[4],2)) + b[5]*np.exp(-np.power((x-b[6]),2)/np.power(b[7],2))-y.detach().numpy()   \n",
    "def f2(b2):\n",
    "    return b[0]*np.exp(-b[1]*x) + b2*np.exp(-np.power((x-b[3]),2)/np.power(b[4],2)) + b[5]*np.exp(-np.power((x-b[6]),2)/np.power(b[7],2))-y.detach().numpy() \n",
    "def f3(b3):\n",
    "    return  b[0]*np.exp(-b[1]*x) + b[2]*np.exp(-np.power((x-b3),2)/np.power(b[4],2)) + b[5]*np.exp(-np.power((x-b[6]),2)/np.power(b[7],2))-y.detach().numpy()  \n",
    "def f4(b4):\n",
    "    return  b[0]*np.exp(-b[1]*x) + b[2]*np.exp(-np.power((x-b[3]),2)/np.power(b4,2)) + b[5]*np.exp(-np.power((x-b[6]),2)/np.power(b[7],2))-y.detach().numpy()   \n",
    "def f5(b5):\n",
    "    return  b[0]*np.exp(-b[1]*x) + b[2]*np.exp(-np.power((x-b[3]),2)/np.power(b[4],2)) + b5*np.exp(-np.power((x-b[6]),2)/np.power(b[7],2))-y.detach().numpy() \n",
    "def f6(b6):\n",
    "    return   b[0]*np.exp(-b[1]*x) + b[2]*np.exp(-np.power((x-b[3]),2)/np.power(b[4],2)) + b[5]*np.exp(-np.power((x-b6),2)/np.power(b[7],2))-y.detach().numpy()  \n",
    "def f7(b7):\n",
    "    return   b[0]*np.exp(-b[1]*x) + b[2]*np.exp(-np.power((x-b[3]),2)/np.power(b[4],2)) + b[5]*np.exp(-np.power((x-b[6]),2)/np.power(b7,2))-y.detach().numpy()  \n",
    "\n",
    "\n",
    "start_time = time.perf_counter()   \n",
    "    \n",
    "for c in range(500):\n",
    "\n",
    "    y_pred = b[0]*np.exp(-b[1]*x) + b[2]*np.exp(-np.power((x-b[3]),2)/np.power(b[4],2)) + b[5]*np.exp(-np.power((x-b[6]),2)/np.power(b[7],2))\n",
    "    error = (y_pred - y.detach().numpy()).reshape(-1,1)\n",
    "    \n",
    "    d_b0 = derivative(f0,b[0] , dx=1e-6)\n",
    "    d_b1 = derivative(f1,b[1] , dx=1e-6)\n",
    "    d_b2 = derivative(f2,b[2] , dx=1e-6)\n",
    "    d_b3 = derivative(f3,b[3] , dx=1e-6)\n",
    "    d_b4 = derivative(f4,b[4] , dx=1e-6)\n",
    "    d_b5 = derivative(f5,b[5] , dx=1e-6)\n",
    "    d_b6 = derivative(f6,b[6] , dx=1e-6)\n",
    "    d_b7 = derivative(f7,b[7] , dx=1e-6)\n",
    "     \n",
    "    jacobian = np.transpose(np.array([d_b0,d_b1,d_b2,d_b3,d_b4,d_b5,d_b6,d_b7]))\n",
    "    dParam = np.matmul(np.matmul(np.linalg.inv((np.matmul(np.transpose(jacobian),jacobian)+u*np.identity(len(b)))),np.transpose(jacobian)),error)\n",
    "    b -= dParam\n",
    "    V = np.sum(np.square(error))\n",
    "    if(V > V_prev):\n",
    "            u *= beta\n",
    "    else:\n",
    "            u /= beta\n",
    "    V_prev = V\n",
    "    print(\"c: \",c,\" error: \",V,\" B:\", b)\n",
    "    \n",
    "    if V <  1.31582224321E+03:\n",
    "        break\n",
    "print(\"time taken to execute: \",time.perf_counter()-start_time)  \n",
    "print(\"SD error is\", np.std(np.square(error)))"
   ]
  },
  {
   "cell_type": "code",
   "execution_count": 37,
   "metadata": {},
   "outputs": [],
   "source": [
    "def Jacobian(loss,params,numParams):\n",
    "    \n",
    "    jacobian = torch.empty(len(loss), numParams) \n",
    "    \n",
    "    for i in range(len(loss)):\n",
    "        \n",
    "        loss[i].backward(retain_graph=True)\n",
    "        \n",
    "        for n in range(numParams):\n",
    "            jacobian[i][n] = params.grad[n]\n",
    "        params.grad.zero_()      \n",
    "    return jacobian    "
   ]
  },
  {
   "cell_type": "code",
   "execution_count": 38,
   "metadata": {},
   "outputs": [
    {
     "ename": "TypeError",
     "evalue": "exp(): argument 'input' (position 1) must be Tensor, not numpy.ndarray",
     "output_type": "error",
     "traceback": [
      "\u001b[1;31m---------------------------------------------------------------------------\u001b[0m",
      "\u001b[1;31mTypeError\u001b[0m                                 Traceback (most recent call last)",
      "\u001b[1;32m<ipython-input-38-048b41a5280d>\u001b[0m in \u001b[0;36m<module>\u001b[1;34m\u001b[0m\n\u001b[0;32m      7\u001b[0m \u001b[1;32mfor\u001b[0m \u001b[0mc\u001b[0m \u001b[1;32min\u001b[0m \u001b[0mrange\u001b[0m\u001b[1;33m(\u001b[0m\u001b[1;36m200\u001b[0m\u001b[1;33m)\u001b[0m\u001b[1;33m:\u001b[0m\u001b[1;33m\u001b[0m\u001b[1;33m\u001b[0m\u001b[0m\n\u001b[0;32m      8\u001b[0m \u001b[1;33m\u001b[0m\u001b[0m\n\u001b[1;32m----> 9\u001b[1;33m     \u001b[0my_pred\u001b[0m \u001b[1;33m=\u001b[0m \u001b[0mb\u001b[0m\u001b[1;33m[\u001b[0m\u001b[1;36m0\u001b[0m\u001b[1;33m]\u001b[0m\u001b[1;33m*\u001b[0m\u001b[0mtorch\u001b[0m\u001b[1;33m.\u001b[0m\u001b[0mexp\u001b[0m\u001b[1;33m(\u001b[0m\u001b[1;33m-\u001b[0m\u001b[0mb\u001b[0m\u001b[1;33m[\u001b[0m\u001b[1;36m1\u001b[0m\u001b[1;33m]\u001b[0m\u001b[1;33m*\u001b[0m\u001b[0mx\u001b[0m\u001b[1;33m)\u001b[0m \u001b[1;33m+\u001b[0m \u001b[0mb\u001b[0m\u001b[1;33m[\u001b[0m\u001b[1;36m2\u001b[0m\u001b[1;33m]\u001b[0m\u001b[1;33m*\u001b[0m\u001b[0mtorch\u001b[0m\u001b[1;33m.\u001b[0m\u001b[0mexp\u001b[0m\u001b[1;33m(\u001b[0m\u001b[1;33m-\u001b[0m\u001b[0mtorch\u001b[0m\u001b[1;33m.\u001b[0m\u001b[0mpow\u001b[0m\u001b[1;33m(\u001b[0m\u001b[1;33m(\u001b[0m\u001b[0mx\u001b[0m\u001b[1;33m-\u001b[0m\u001b[0mb\u001b[0m\u001b[1;33m[\u001b[0m\u001b[1;36m3\u001b[0m\u001b[1;33m]\u001b[0m\u001b[1;33m)\u001b[0m\u001b[1;33m,\u001b[0m\u001b[1;36m2\u001b[0m\u001b[1;33m)\u001b[0m\u001b[1;33m/\u001b[0m\u001b[0mtorch\u001b[0m\u001b[1;33m.\u001b[0m\u001b[0mpow\u001b[0m\u001b[1;33m(\u001b[0m\u001b[0mb\u001b[0m\u001b[1;33m[\u001b[0m\u001b[1;36m4\u001b[0m\u001b[1;33m]\u001b[0m\u001b[1;33m,\u001b[0m\u001b[1;36m2\u001b[0m\u001b[1;33m)\u001b[0m\u001b[1;33m)\u001b[0m \u001b[1;33m+\u001b[0m \u001b[0mb\u001b[0m\u001b[1;33m[\u001b[0m\u001b[1;36m5\u001b[0m\u001b[1;33m]\u001b[0m\u001b[1;33m*\u001b[0m\u001b[0mtorch\u001b[0m\u001b[1;33m.\u001b[0m\u001b[0mexp\u001b[0m\u001b[1;33m(\u001b[0m\u001b[1;33m-\u001b[0m\u001b[0mtorch\u001b[0m\u001b[1;33m.\u001b[0m\u001b[0mpow\u001b[0m\u001b[1;33m(\u001b[0m\u001b[1;33m(\u001b[0m\u001b[0mx\u001b[0m\u001b[1;33m-\u001b[0m\u001b[0mb\u001b[0m\u001b[1;33m[\u001b[0m\u001b[1;36m6\u001b[0m\u001b[1;33m]\u001b[0m\u001b[1;33m)\u001b[0m\u001b[1;33m,\u001b[0m\u001b[1;36m2\u001b[0m\u001b[1;33m)\u001b[0m\u001b[1;33m/\u001b[0m\u001b[0mtorch\u001b[0m\u001b[1;33m.\u001b[0m\u001b[0mpow\u001b[0m\u001b[1;33m(\u001b[0m\u001b[0mb\u001b[0m\u001b[1;33m[\u001b[0m\u001b[1;36m7\u001b[0m\u001b[1;33m]\u001b[0m\u001b[1;33m,\u001b[0m\u001b[1;36m2\u001b[0m\u001b[1;33m)\u001b[0m\u001b[1;33m)\u001b[0m\u001b[1;33m\u001b[0m\u001b[1;33m\u001b[0m\u001b[0m\n\u001b[0m\u001b[0;32m     10\u001b[0m \u001b[1;33m\u001b[0m\u001b[0m\n\u001b[0;32m     11\u001b[0m     \u001b[0mloss\u001b[0m \u001b[1;33m=\u001b[0m \u001b[0my_pred\u001b[0m\u001b[1;33m-\u001b[0m\u001b[0my\u001b[0m\u001b[1;33m\u001b[0m\u001b[1;33m\u001b[0m\u001b[0m\n",
      "\u001b[1;31mTypeError\u001b[0m: exp(): argument 'input' (position 1) must be Tensor, not numpy.ndarray"
     ]
    }
   ],
   "source": [
    "## Automatic Differentiation\n",
    "num_param = len(b)\n",
    "u=0.1 #beta multiply identity matrix\n",
    "beta = 10\n",
    "error_prev = 0\n",
    "start_time = time.perf_counter()\n",
    "for c in range(200):\n",
    "\n",
    "    y_pred = b[0]*torch.exp(-b[1]*x) + b[2]*torch.exp(-torch.pow((x-b[3]),2)/torch.pow(b[4],2)) + b[5]*torch.exp(-torch.pow((x-b[6]),2)/torch.pow(b[7],2))\n",
    "    \n",
    "    loss = y_pred-y\n",
    "    error = torch.sum(torch.square(loss)) #residual sum of squares\n",
    "    print(\"\",c,\" error is: \",error.detach().numpy(),\" b is \", b.detach().numpy())\n",
    "    jacobian = Jacobian(loss,b,len(b))\n",
    "\n",
    "    dParam = torch.matmul(torch.matmul(torch.inverse(torch.matmul(torch.transpose(jacobian,-1,0),jacobian)+u*torch.eye(num_param, num_param)),torch.transpose(jacobian,-1,0)),loss.float())\n",
    "    with torch.no_grad():\n",
    "        b -=dParam\n",
    "    \n",
    "        if(error > error_prev):\n",
    "            u *= beta\n",
    "        else:\n",
    "            u /= beta\n",
    "        error_prev = error\n",
    "    if error< 1.31582224321E+03 :#7.88539786689E+02:  given residual sum of squares\n",
    "        break\n",
    "print(\"time taken to execute: \",time.perf_counter()-start_time) \n",
    "print(\"SD error is\", np.std(np.square(loss.detach().numpy())))"
   ]
  },
  {
   "cell_type": "code",
   "execution_count": null,
   "metadata": {},
   "outputs": [],
   "source": [
    "plt.plot(y_pred.detach(),'g', y,'r')"
   ]
  },
  {
   "cell_type": "code",
   "execution_count": null,
   "metadata": {},
   "outputs": [],
   "source": [
    "\n",
    "        "
   ]
  },
  {
   "cell_type": "code",
   "execution_count": null,
   "metadata": {},
   "outputs": [],
   "source": []
  }
 ],
 "metadata": {
  "kernelspec": {
   "display_name": "Python 3",
   "language": "python",
   "name": "python3"
  },
  "language_info": {
   "codemirror_mode": {
    "name": "ipython",
    "version": 3
   },
   "file_extension": ".py",
   "mimetype": "text/x-python",
   "name": "python",
   "nbconvert_exporter": "python",
   "pygments_lexer": "ipython3",
   "version": "3.8.3"
  }
 },
 "nbformat": 4,
 "nbformat_minor": 4
}
