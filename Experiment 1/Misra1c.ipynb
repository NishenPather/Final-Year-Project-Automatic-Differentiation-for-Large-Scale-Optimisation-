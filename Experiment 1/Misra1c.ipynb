{
 "cells": [
  {
   "cell_type": "code",
   "execution_count": 60,
   "metadata": {},
   "outputs": [],
   "source": [
    "import matplotlib.pyplot as plt\n",
    "import torch\n",
    "import pandas as pd\n",
    "from scipy.misc import derivative\n",
    "import time"
   ]
  },
  {
   "cell_type": "code",
   "execution_count": 61,
   "metadata": {},
   "outputs": [
    {
     "data": {
      "text/html": [
       "<div>\n",
       "<style scoped>\n",
       "    .dataframe tbody tr th:only-of-type {\n",
       "        vertical-align: middle;\n",
       "    }\n",
       "\n",
       "    .dataframe tbody tr th {\n",
       "        vertical-align: top;\n",
       "    }\n",
       "\n",
       "    .dataframe thead th {\n",
       "        text-align: right;\n",
       "    }\n",
       "</style>\n",
       "<table border=\"1\" class=\"dataframe\">\n",
       "  <thead>\n",
       "    <tr style=\"text-align: right;\">\n",
       "      <th></th>\n",
       "      <th>y</th>\n",
       "      <th>x</th>\n",
       "    </tr>\n",
       "  </thead>\n",
       "  <tbody>\n",
       "    <tr>\n",
       "      <th>NaN</th>\n",
       "      <td>10.07</td>\n",
       "      <td>77.6</td>\n",
       "    </tr>\n",
       "    <tr>\n",
       "      <th>NaN</th>\n",
       "      <td>14.73</td>\n",
       "      <td>114.9</td>\n",
       "    </tr>\n",
       "    <tr>\n",
       "      <th>NaN</th>\n",
       "      <td>17.94</td>\n",
       "      <td>141.1</td>\n",
       "    </tr>\n",
       "    <tr>\n",
       "      <th>NaN</th>\n",
       "      <td>23.93</td>\n",
       "      <td>190.8</td>\n",
       "    </tr>\n",
       "    <tr>\n",
       "      <th>NaN</th>\n",
       "      <td>29.61</td>\n",
       "      <td>239.9</td>\n",
       "    </tr>\n",
       "    <tr>\n",
       "      <th>NaN</th>\n",
       "      <td>35.18</td>\n",
       "      <td>289.0</td>\n",
       "    </tr>\n",
       "    <tr>\n",
       "      <th>NaN</th>\n",
       "      <td>40.02</td>\n",
       "      <td>332.8</td>\n",
       "    </tr>\n",
       "    <tr>\n",
       "      <th>NaN</th>\n",
       "      <td>44.82</td>\n",
       "      <td>378.4</td>\n",
       "    </tr>\n",
       "    <tr>\n",
       "      <th>NaN</th>\n",
       "      <td>50.76</td>\n",
       "      <td>434.8</td>\n",
       "    </tr>\n",
       "    <tr>\n",
       "      <th>NaN</th>\n",
       "      <td>55.05</td>\n",
       "      <td>477.3</td>\n",
       "    </tr>\n",
       "    <tr>\n",
       "      <th>NaN</th>\n",
       "      <td>61.01</td>\n",
       "      <td>536.8</td>\n",
       "    </tr>\n",
       "    <tr>\n",
       "      <th>NaN</th>\n",
       "      <td>66.40</td>\n",
       "      <td>593.1</td>\n",
       "    </tr>\n",
       "    <tr>\n",
       "      <th>NaN</th>\n",
       "      <td>75.47</td>\n",
       "      <td>689.1</td>\n",
       "    </tr>\n",
       "    <tr>\n",
       "      <th>NaN</th>\n",
       "      <td>81.78</td>\n",
       "      <td>760.0</td>\n",
       "    </tr>\n",
       "  </tbody>\n",
       "</table>\n",
       "</div>"
      ],
      "text/plain": [
       "         y      x\n",
       "NaN  10.07   77.6\n",
       "NaN  14.73  114.9\n",
       "NaN  17.94  141.1\n",
       "NaN  23.93  190.8\n",
       "NaN  29.61  239.9\n",
       "NaN  35.18  289.0\n",
       "NaN  40.02  332.8\n",
       "NaN  44.82  378.4\n",
       "NaN  50.76  434.8\n",
       "NaN  55.05  477.3\n",
       "NaN  61.01  536.8\n",
       "NaN  66.40  593.1\n",
       "NaN  75.47  689.1\n",
       "NaN  81.78  760.0"
      ]
     },
     "execution_count": 61,
     "metadata": {},
     "output_type": "execute_result"
    }
   ],
   "source": [
    "data= pd.read_csv(\"Misra1c_Data.txt\",names=['y','x'], sep=\" \")\n",
    "\n",
    "data"
   ]
  },
  {
   "cell_type": "code",
   "execution_count": 62,
   "metadata": {},
   "outputs": [],
   "source": [
    "y = torch.from_numpy(data['y'].to_numpy(np.float64))\n",
    "x = torch.from_numpy(data['x'].to_numpy(np.float64))\n",
    "\n",
    "b = torch.tensor([500,0.0001],requires_grad=True)\n",
    "# b = torch.tensor([600,0.0002],requires_grad=True)\n",
    "# b = torch.tensor([636.42725809,.00020813627256],requires_grad=True)"
   ]
  },
  {
   "cell_type": "code",
   "execution_count": 63,
   "metadata": {},
   "outputs": [
    {
     "data": {
      "text/plain": [
       "[<matplotlib.lines.Line2D at 0x1f3e5d1f0d0>]"
      ]
     },
     "execution_count": 63,
     "metadata": {},
     "output_type": "execute_result"
    },
    {
     "data": {
      "image/png": "[encoded data removed]",
      "text/plain": [
       "<Figure size 432x288 with 1 Axes>"
      ]
     },
     "metadata": {
      "needs_background": "light"
     },
     "output_type": "display_data"
    }
   ],
   "source": [
    "plt.plot(x.numpy(),y.numpy())"
   ]
  },
  {
   "cell_type": "code",
   "execution_count": 64,
   "metadata": {},
   "outputs": [],
   "source": [
    "## Numerical Differentiation\n",
    "\n",
    "# b = np.array([500,0.0001]).reshape(-1,1)\n",
    "# # b = np.array([100.0,0.75]).reshape(-1,1)\n",
    "\n",
    "# x=x.detach().numpy()\n",
    "\n",
    "# u=0.1 #beta multiply identity matrix\n",
    "# beta = 10\n",
    "# V_prev = 0\n",
    "    \n",
    "# def f0(b0):\n",
    "#     return  b0 * (1-(np.power(np.sqrt(1+2*b[1]*x),-1*np.ones(len(x)))))  -y.detach().numpy()  \n",
    "# def f1(b1):\n",
    "#     return b[0] * (1-(np.power(np.sqrt(1+2*b1*x),-1*np.ones(len(x))))) -y.detach().numpy()  \n",
    "\n",
    "# start_time = time.perf_counter()\n",
    "# for c in range(500):\n",
    "    \n",
    "#     y_pred = b[0] * (1-(np.power(np.sqrt(1+2*b[1]*x),-1*np.ones(len(x))))) \n",
    "#     error = (y_pred - y.detach().numpy()).reshape(-1,1)\n",
    "    \n",
    "#     d_b0 = derivative(f0,b[0] , dx=1e-6)\n",
    "#     d_b1 = derivative(f1,b[1] , dx=1e-6)\n",
    "     \n",
    "#     jacobian = np.transpose(np.array([d_b0,d_b1]))\n",
    "#     dParam = np.matmul(np.matmul(np.linalg.inv((np.matmul(np.transpose(jacobian),jacobian)+u*np.identity(len(b)))),np.transpose(jacobian)),error)\n",
    "#     b -= dParam\n",
    "#     V = np.sum(np.square(error))\n",
    "#     if(V > V_prev):\n",
    "#             u *= beta\n",
    "#     else:\n",
    "#             u /= beta\n",
    "#     V_prev = V\n",
    "#     print(\"c: \",c,\" error: \",V,\" B:\", b)\n",
    "#     if V < 4.0966836972E-02:\n",
    "#         break\n",
    "# print(\"time taken to execute: \",time.perf_counter()-start_time)    "
   ]
  },
  {
   "cell_type": "code",
   "execution_count": 65,
   "metadata": {},
   "outputs": [],
   "source": [
    "def Jacobian(loss,params,numParams):\n",
    "    \n",
    "    jacobian = torch.empty(len(loss), numParams) \n",
    "    \n",
    "    for i in range(len(loss)):\n",
    "        \n",
    "        loss[i].backward(retain_graph=True)\n",
    "        \n",
    "        for n in range(numParams):\n",
    "            jacobian[i][n] = params.grad[n]\n",
    "        params.grad.zero_()      \n",
    "    return jacobian    "
   ]
  },
  {
   "cell_type": "code",
   "execution_count": 67,
   "metadata": {},
   "outputs": [
    {
     "name": "stdout",
     "output_type": "stream",
     "text": [
      " 0  error is:  11603.016784954893  b is  [5.e+02 1.e-04]\n",
      " 1  error is:  123.00439470907583  b is  [4.9995340e+02 2.5711764e-04]\n",
      " 2  error is:  4.7587809513341135  b is  [4.9999155e+02 2.7669789e-04]\n",
      " 3  error is:  4.707803200000707  b is  [5.0042725e+02 2.7661625e-04]\n",
      " 4  error is:  4.353623068952772  b is  [5.0461172e+02 2.7382086e-04]\n",
      " 5  error is:  2.9416314978756892  b is  [5.3414557e+02 2.5451268e-04]\n",
      " 6  error is:  10.274888135079628  b is  [5.9949902e+02 2.1862633e-04]\n",
      " 7  error is:  0.2365872220824975  b is  [6.334609e+02 2.086791e-04]\n",
      " 8  error is:  0.04117550624381554  b is  [6.3527515e+02 2.0857441e-04]\n",
      " 9  error is:  0.040968019761395275  b is  [6.3635437e+02 2.0816317e-04]\n",
      " 10  error is:  0.04096683703139324  b is  [6.3642664e+02 2.0813651e-04]\n",
      " 11  error is:  0.0409668369710738  b is  [6.3642725e+02 2.0813628e-04]\n",
      "time taken to execute:  0.07092650000004141\n"
     ]
    }
   ],
   "source": [
    "## Automatic Differentiation\n",
    "num_param = len(b)\n",
    "u=0.1 #beta multiply identity matrix\n",
    "beta = 10\n",
    "error_prev = 0\n",
    "start_time = time.perf_counter()\n",
    "for c in range(300):\n",
    "    \n",
    "    y_pred = b[0] * (1-(torch.pow(torch.sqrt(1+2*b[1]*x),-1*torch.ones(len(x))))) \n",
    "    \n",
    "    loss = y_pred-y\n",
    "    error = torch.sum(torch.square(loss)) #residual sum of squares\n",
    "    print(\"\",c,\" error is: \",error.detach().numpy(),\" b is \", b.detach().numpy())\n",
    "    jacobian = Jacobian(loss,b,len(b))\n",
    "\n",
    "    dParam = torch.matmul(torch.matmul(torch.inverse(torch.matmul(torch.transpose(jacobian,-1,0),jacobian)+u*torch.eye(num_param, num_param)),torch.transpose(jacobian,-1,0)),loss.float())\n",
    "    with torch.no_grad():\n",
    "        b -=dParam\n",
    "    \n",
    "        if(error > error_prev):\n",
    "            u *= beta\n",
    "        else:\n",
    "            u /= beta\n",
    "        error_prev = error\n",
    "    if error< 4.0966836972E-02: #3.9050739624 given residual sum of squares\n",
    "        break\n",
    "print(\"time taken to execute: \",time.perf_counter()-start_time) "
   ]
  },
  {
   "cell_type": "code",
   "execution_count": 68,
   "metadata": {},
   "outputs": [
    {
     "data": {
      "text/plain": [
       "[<matplotlib.lines.Line2D at 0x1f3e5d705e0>,\n",
       " <matplotlib.lines.Line2D at 0x1f3e5d70610>]"
      ]
     },
     "execution_count": 68,
     "metadata": {},
     "output_type": "execute_result"
    },
    {
     "data": {
      "image/png": "[encoded data removed]",
      "text/plain": [
       "<Figure size 432x288 with 1 Axes>"
      ]
     },
     "metadata": {
      "needs_background": "light"
     },
     "output_type": "display_data"
    }
   ],
   "source": [
    "plt.plot(y_pred.detach(),'g.', y,'r')"
   ]
  }
 ],
 "metadata": {
  "kernelspec": {
   "display_name": "Python 3",
   "language": "python",
   "name": "python3"
  },
  "language_info": {
   "codemirror_mode": {
    "name": "ipython",
    "version": 3
   },
   "file_extension": ".py",
   "mimetype": "text/x-python",
   "name": "python",
   "nbconvert_exporter": "python",
   "pygments_lexer": "ipython3",
   "version": "3.8.3"
  }
 },
 "nbformat": 4,
 "nbformat_minor": 4
}
