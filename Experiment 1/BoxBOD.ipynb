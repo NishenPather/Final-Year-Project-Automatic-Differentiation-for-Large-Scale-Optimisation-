{
 "cells": [
  {
   "cell_type": "code",
   "execution_count": 10,
   "metadata": {},
   "outputs": [],
   "source": [
    "import numpy as np\n",
    "import matplotlib.pyplot as plt\n",
    "import torch\n",
    "import pandas as pd\n",
    "from scipy.misc import derivative\n",
    "import time"
   ]
  },
  {
   "cell_type": "code",
   "execution_count": 11,
   "metadata": {},
   "outputs": [
    {
     "data": {
      "text/html": [
       "<div>\n",
       "<style scoped>\n",
       "    .dataframe tbody tr th:only-of-type {\n",
       "        vertical-align: middle;\n",
       "    }\n",
       "\n",
       "    .dataframe tbody tr th {\n",
       "        vertical-align: top;\n",
       "    }\n",
       "\n",
       "    .dataframe thead th {\n",
       "        text-align: right;\n",
       "    }\n",
       "</style>\n",
       "<table border=\"1\" class=\"dataframe\">\n",
       "  <thead>\n",
       "    <tr style=\"text-align: right;\">\n",
       "      <th></th>\n",
       "      <th>y</th>\n",
       "      <th>x</th>\n",
       "    </tr>\n",
       "  </thead>\n",
       "  <tbody>\n",
       "    <tr>\n",
       "      <th>NaN</th>\n",
       "      <td>109</td>\n",
       "      <td>1</td>\n",
       "    </tr>\n",
       "    <tr>\n",
       "      <th>NaN</th>\n",
       "      <td>149</td>\n",
       "      <td>2</td>\n",
       "    </tr>\n",
       "    <tr>\n",
       "      <th>NaN</th>\n",
       "      <td>149</td>\n",
       "      <td>3</td>\n",
       "    </tr>\n",
       "    <tr>\n",
       "      <th>NaN</th>\n",
       "      <td>191</td>\n",
       "      <td>5</td>\n",
       "    </tr>\n",
       "    <tr>\n",
       "      <th>NaN</th>\n",
       "      <td>213</td>\n",
       "      <td>7</td>\n",
       "    </tr>\n",
       "    <tr>\n",
       "      <th>NaN</th>\n",
       "      <td>224</td>\n",
       "      <td>10</td>\n",
       "    </tr>\n",
       "  </tbody>\n",
       "</table>\n",
       "</div>"
      ],
      "text/plain": [
       "       y   x\n",
       "NaN  109   1\n",
       "NaN  149   2\n",
       "NaN  149   3\n",
       "NaN  191   5\n",
       "NaN  213   7\n",
       "NaN  224  10"
      ]
     },
     "execution_count": 11,
     "metadata": {},
     "output_type": "execute_result"
    }
   ],
   "source": [
    "data= pd.read_csv(\"BoxBOD_Data.txt\",names=['y','x'], sep=\" \")\n",
    "\n",
    "data"
   ]
  },
  {
   "cell_type": "code",
   "execution_count": 12,
   "metadata": {},
   "outputs": [],
   "source": [
    "y = torch.from_numpy(data['y'].to_numpy(np.float64))\n",
    "x = torch.from_numpy(data['x'].to_numpy(np.float64))\n",
    "\n",
    "# b = torch.tensor([1.0,1.0],requires_grad=True)\n",
    "b = torch.tensor([100.0,0.75],requires_grad=True)"
   ]
  },
  {
   "cell_type": "code",
   "execution_count": 13,
   "metadata": {},
   "outputs": [
    {
     "data": {
      "text/plain": [
       "[<matplotlib.lines.Line2D at 0x2487764a220>]"
      ]
     },
     "execution_count": 13,
     "metadata": {},
     "output_type": "execute_result"
    },
    {
     "data": {
      "image/png": "[encoded data removed]",
      "text/plain": [
       "<Figure size 432x288 with 1 Axes>"
      ]
     },
     "metadata": {
      "needs_background": "light"
     },
     "output_type": "display_data"
    }
   ],
   "source": [
    "plt.plot(x.numpy(),y.numpy(),\"r\")"
   ]
  },
  {
   "cell_type": "code",
   "execution_count": 14,
   "metadata": {},
   "outputs": [
    {
     "name": "stdout",
     "output_type": "stream",
     "text": [
      "c:  0  error:  48785.25266563878  B: [[205.22775556]\n",
      " [  0.45353028]]\n",
      "c:  1  error:  2645.9165493332093  B: [[210.94088212]\n",
      " [  0.54773236]]\n",
      "c:  2  error:  1200.7178282320917  B: [[213.65841885]\n",
      " [  0.54822677]]\n",
      "c:  3  error:  1168.0471591231565  B: [[213.79050901]\n",
      " [  0.54745149]]\n",
      "c:  4  error:  1168.009839731233  B: [[213.80547005]\n",
      " [  0.54728306]]\n",
      "c:  5  error:  1168.0089202202078  B: [[213.80857185]\n",
      " [  0.54724719]]\n",
      "c:  6  error:  1168.0088785346054  B: [[213.80923084]\n",
      " [  0.54723955]]\n",
      "c:  7  error:  1168.0088766451977  B: [[213.80937108]\n",
      " [  0.54723792]]\n",
      "c:  8  error:  1168.008876559605  B: [[213.8094008 ]\n",
      " [  0.54723758]]\n",
      "time taken to execute:  0.008330599999993638\n"
     ]
    }
   ],
   "source": [
    "## Numerical Differentiation\n",
    "\n",
    "b = np.array([1.0,1.0]).reshape(-1,1)\n",
    "b = np.array([100.0,0.75]).reshape(-1,1)\n",
    "\n",
    "x=x.detach().numpy()\n",
    "\n",
    "u=0.1 #beta multiply identity matrix\n",
    "beta = 10\n",
    "V_prev = 0\n",
    "\n",
    "\n",
    "\n",
    "def f0(b0):\n",
    "    return  b0*(1-np.exp((-b[1]*x))) -y.detach().numpy()  \n",
    "def f1(b1):\n",
    "    return b[0]*(1-np.exp((-b1*x)))-y.detach().numpy()  \n",
    "\n",
    "start_time = time.perf_counter()\n",
    "for c in range(500):\n",
    "    \n",
    "    y_pred = b[0]*(1-np.exp((-b[1]*x)))\n",
    "    error = (y_pred - y.detach().numpy()).reshape(-1,1)\n",
    "    \n",
    "    d_b0 = derivative(f0,b[0] , dx=1e-6)\n",
    "    d_b1 = derivative(f1,b[1] , dx=1e-6)\n",
    "     \n",
    "    jacobian = np.transpose(np.array([d_b0,d_b1]))\n",
    "    dParam = np.matmul(np.matmul(np.linalg.inv((np.matmul(np.transpose(jacobian),jacobian)+u*np.identity(len(b)))),np.transpose(jacobian)),error)\n",
    "    b -= dParam\n",
    "    V = np.sum(np.square(error))\n",
    "    if(V > V_prev):\n",
    "            u *= beta\n",
    "    else:\n",
    "            u /= beta\n",
    "    V_prev = V\n",
    "    print(\"c: \",c,\" error: \",V,\" B:\", b)\n",
    "    if V < 1.1680088766E+03:\n",
    "        break\n",
    "print(\"time taken to execute: \",time.perf_counter()-start_time)    "
   ]
  },
  {
   "cell_type": "code",
   "execution_count": 15,
   "metadata": {},
   "outputs": [],
   "source": [
    "def Jacobian(loss,params,numParams):\n",
    "    \n",
    "    jacobian = torch.empty(len(loss), numParams) \n",
    "    \n",
    "    for i in range(len(loss)):\n",
    "        \n",
    "        loss[i].backward(retain_graph=True)\n",
    "        \n",
    "        for n in range(numParams):\n",
    "            jacobian[i][n] = params.grad[n]\n",
    "        params.grad.zero_()      \n",
    "    return jacobian    "
   ]
  },
  {
   "cell_type": "code",
   "execution_count": 16,
   "metadata": {},
   "outputs": [
    {
     "ename": "TypeError",
     "evalue": "exp(): argument 'input' (position 1) must be Tensor, not numpy.ndarray",
     "output_type": "error",
     "traceback": [
      "\u001b[1;31m---------------------------------------------------------------------------\u001b[0m",
      "\u001b[1;31mTypeError\u001b[0m                                 Traceback (most recent call last)",
      "\u001b[1;32m<ipython-input-16-6e1b0e1feeb0>\u001b[0m in \u001b[0;36m<module>\u001b[1;34m\u001b[0m\n\u001b[0;32m      7\u001b[0m \u001b[1;32mfor\u001b[0m \u001b[0mc\u001b[0m \u001b[1;32min\u001b[0m \u001b[0mrange\u001b[0m\u001b[1;33m(\u001b[0m\u001b[1;36m50\u001b[0m\u001b[1;33m)\u001b[0m\u001b[1;33m:\u001b[0m\u001b[1;33m\u001b[0m\u001b[1;33m\u001b[0m\u001b[0m\n\u001b[0;32m      8\u001b[0m \u001b[1;33m\u001b[0m\u001b[0m\n\u001b[1;32m----> 9\u001b[1;33m     \u001b[0my_pred\u001b[0m \u001b[1;33m=\u001b[0m \u001b[0mb\u001b[0m\u001b[1;33m[\u001b[0m\u001b[1;36m0\u001b[0m\u001b[1;33m]\u001b[0m\u001b[1;33m*\u001b[0m\u001b[1;33m(\u001b[0m\u001b[1;36m1\u001b[0m\u001b[1;33m-\u001b[0m\u001b[0mtorch\u001b[0m\u001b[1;33m.\u001b[0m\u001b[0mexp\u001b[0m\u001b[1;33m(\u001b[0m\u001b[1;33m(\u001b[0m\u001b[1;33m-\u001b[0m\u001b[0mb\u001b[0m\u001b[1;33m[\u001b[0m\u001b[1;36m1\u001b[0m\u001b[1;33m]\u001b[0m\u001b[1;33m*\u001b[0m\u001b[0mx\u001b[0m\u001b[1;33m)\u001b[0m\u001b[1;33m)\u001b[0m\u001b[1;33m)\u001b[0m\u001b[1;33m\u001b[0m\u001b[1;33m\u001b[0m\u001b[0m\n\u001b[0m\u001b[0;32m     10\u001b[0m \u001b[1;33m\u001b[0m\u001b[0m\n\u001b[0;32m     11\u001b[0m     \u001b[0mloss\u001b[0m \u001b[1;33m=\u001b[0m \u001b[0my_pred\u001b[0m\u001b[1;33m-\u001b[0m\u001b[0my\u001b[0m\u001b[1;33m\u001b[0m\u001b[1;33m\u001b[0m\u001b[0m\n",
      "\u001b[1;31mTypeError\u001b[0m: exp(): argument 'input' (position 1) must be Tensor, not numpy.ndarray"
     ]
    }
   ],
   "source": [
    "## Automatic Differentiation\n",
    "num_param = len(b)\n",
    "u=0.1 #beta multiply identity matrix\n",
    "beta = 10\n",
    "error_prev = 0\n",
    "start_time = time.perf_counter()\n",
    "for c in range(50):\n",
    "    \n",
    "    y_pred = b[0]*(1-torch.exp((-b[1]*x)))\n",
    "    \n",
    "    loss = y_pred-y\n",
    "    error = torch.sum(torch.square(loss)) #residual sum of squares\n",
    "    print(\"\",c,\" error is: \",error.detach().numpy(),\" b is \", b.detach().numpy())\n",
    "    jacobian = Jacobian(loss,b,len(b))\n",
    "\n",
    "    dParam = torch.matmul(torch.matmul(torch.inverse(torch.matmul(torch.transpose(jacobian,-1,0),jacobian)+u*torch.eye(num_param, num_param)),torch.transpose(jacobian,-1,0)),loss.float())\n",
    "    with torch.no_grad():\n",
    "        b -=dParam\n",
    "    \n",
    "        if(error > error_prev):\n",
    "            u *= beta\n",
    "        else:\n",
    "            u /= beta\n",
    "        error_prev = error\n",
    "    if error < 1.1680088766E+03:\n",
    "        break\n",
    "print(\"time taken to execute: \",time.perf_counter()-start_time)  "
   ]
  },
  {
   "cell_type": "code",
   "execution_count": null,
   "metadata": {},
   "outputs": [],
   "source": [
    "plt.plot(y_pred.detach(),'g', y,'r')"
   ]
  },
  {
   "cell_type": "code",
   "execution_count": null,
   "metadata": {},
   "outputs": [],
   "source": [
    " y   "
   ]
  }
 ],
 "metadata": {
  "kernelspec": {
   "display_name": "Python 3",
   "language": "python",
   "name": "python3"
  },
  "language_info": {
   "codemirror_mode": {
    "name": "ipython",
    "version": 3
   },
   "file_extension": ".py",
   "mimetype": "text/x-python",
   "name": "python",
   "nbconvert_exporter": "python",
   "pygments_lexer": "ipython3",
   "version": "3.8.3"
  }
 },
 "nbformat": 4,
 "nbformat_minor": 4
}
