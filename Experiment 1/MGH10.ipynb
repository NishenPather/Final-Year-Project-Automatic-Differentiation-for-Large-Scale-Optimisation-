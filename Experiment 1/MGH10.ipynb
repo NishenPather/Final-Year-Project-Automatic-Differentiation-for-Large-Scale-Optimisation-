{
 "cells": [
  {
   "cell_type": "code",
   "execution_count": 119,
   "metadata": {},
   "outputs": [],
   "source": [
    "import numpy as np\n",
    "import matplotlib.pyplot as plt\n",
    "import torch\n",
    "import pandas as pd\n",
    "from scipy.misc import derivative\n",
    "import time"
   ]
  },
  {
   "cell_type": "code",
   "execution_count": 120,
   "metadata": {},
   "outputs": [
    {
     "data": {
      "text/html": [
       "<div>\n",
       "<style scoped>\n",
       "    .dataframe tbody tr th:only-of-type {\n",
       "        vertical-align: middle;\n",
       "    }\n",
       "\n",
       "    .dataframe tbody tr th {\n",
       "        vertical-align: top;\n",
       "    }\n",
       "\n",
       "    .dataframe thead th {\n",
       "        text-align: right;\n",
       "    }\n",
       "</style>\n",
       "<table border=\"1\" class=\"dataframe\">\n",
       "  <thead>\n",
       "    <tr style=\"text-align: right;\">\n",
       "      <th></th>\n",
       "      <th>y</th>\n",
       "      <th>x</th>\n",
       "    </tr>\n",
       "  </thead>\n",
       "  <tbody>\n",
       "    <tr>\n",
       "      <th>NaN</th>\n",
       "      <td>34780.0</td>\n",
       "      <td>50.0</td>\n",
       "    </tr>\n",
       "    <tr>\n",
       "      <th>NaN</th>\n",
       "      <td>28610.0</td>\n",
       "      <td>55.0</td>\n",
       "    </tr>\n",
       "    <tr>\n",
       "      <th>NaN</th>\n",
       "      <td>23650.0</td>\n",
       "      <td>60.0</td>\n",
       "    </tr>\n",
       "    <tr>\n",
       "      <th>NaN</th>\n",
       "      <td>19630.0</td>\n",
       "      <td>65.0</td>\n",
       "    </tr>\n",
       "    <tr>\n",
       "      <th>NaN</th>\n",
       "      <td>16370.0</td>\n",
       "      <td>70.0</td>\n",
       "    </tr>\n",
       "    <tr>\n",
       "      <th>NaN</th>\n",
       "      <td>13720.0</td>\n",
       "      <td>75.0</td>\n",
       "    </tr>\n",
       "    <tr>\n",
       "      <th>NaN</th>\n",
       "      <td>11540.0</td>\n",
       "      <td>80.0</td>\n",
       "    </tr>\n",
       "    <tr>\n",
       "      <th>NaN</th>\n",
       "      <td>9744.0</td>\n",
       "      <td>85.0</td>\n",
       "    </tr>\n",
       "    <tr>\n",
       "      <th>NaN</th>\n",
       "      <td>8261.0</td>\n",
       "      <td>90.0</td>\n",
       "    </tr>\n",
       "    <tr>\n",
       "      <th>NaN</th>\n",
       "      <td>7030.0</td>\n",
       "      <td>95.0</td>\n",
       "    </tr>\n",
       "    <tr>\n",
       "      <th>NaN</th>\n",
       "      <td>6005.0</td>\n",
       "      <td>100.0</td>\n",
       "    </tr>\n",
       "    <tr>\n",
       "      <th>NaN</th>\n",
       "      <td>5147.0</td>\n",
       "      <td>105.0</td>\n",
       "    </tr>\n",
       "    <tr>\n",
       "      <th>NaN</th>\n",
       "      <td>4427.0</td>\n",
       "      <td>110.0</td>\n",
       "    </tr>\n",
       "    <tr>\n",
       "      <th>NaN</th>\n",
       "      <td>3820.0</td>\n",
       "      <td>115.0</td>\n",
       "    </tr>\n",
       "    <tr>\n",
       "      <th>NaN</th>\n",
       "      <td>3307.0</td>\n",
       "      <td>120.0</td>\n",
       "    </tr>\n",
       "    <tr>\n",
       "      <th>NaN</th>\n",
       "      <td>2872.0</td>\n",
       "      <td>125.0</td>\n",
       "    </tr>\n",
       "  </tbody>\n",
       "</table>\n",
       "</div>"
      ],
      "text/plain": [
       "           y      x\n",
       "NaN  34780.0   50.0\n",
       "NaN  28610.0   55.0\n",
       "NaN  23650.0   60.0\n",
       "NaN  19630.0   65.0\n",
       "NaN  16370.0   70.0\n",
       "NaN  13720.0   75.0\n",
       "NaN  11540.0   80.0\n",
       "NaN   9744.0   85.0\n",
       "NaN   8261.0   90.0\n",
       "NaN   7030.0   95.0\n",
       "NaN   6005.0  100.0\n",
       "NaN   5147.0  105.0\n",
       "NaN   4427.0  110.0\n",
       "NaN   3820.0  115.0\n",
       "NaN   3307.0  120.0\n",
       "NaN   2872.0  125.0"
      ]
     },
     "execution_count": 120,
     "metadata": {},
     "output_type": "execute_result"
    }
   ],
   "source": [
    "data= pd.read_csv(\"MGH10_Data.txt\",names=['y','x'], sep=\" \")\n",
    "\n",
    "data"
   ]
  },
  {
   "cell_type": "code",
   "execution_count": 121,
   "metadata": {},
   "outputs": [],
   "source": [
    "y = torch.from_numpy(data['y'].to_numpy(np.float64))\n",
    "x = torch.from_numpy(data['x'].to_numpy(np.float64))\n",
    "\n",
    "b = torch.tensor([0.02,4000.0,250.0],requires_grad=True)\n",
    "# b = torch.tensor([2.0,400000.0,25000.0],requires_grad=True)"
   ]
  },
  {
   "cell_type": "code",
   "execution_count": 122,
   "metadata": {
    "scrolled": true
   },
   "outputs": [
    {
     "data": {
      "text/plain": [
       "[<matplotlib.lines.Line2D at 0x25d5cce4850>]"
      ]
     },
     "execution_count": 122,
     "metadata": {},
     "output_type": "execute_result"
    },
    {
     "data": {
      "image/png": "[encoded data removed]",
      "text/plain": [
       "<Figure size 432x288 with 1 Axes>"
      ]
     },
     "metadata": {
      "needs_background": "light"
     },
     "output_type": "display_data"
    }
   ],
   "source": [
    "plt.plot(x.numpy(),y.numpy(),\"r\")"
   ]
  },
  {
   "cell_type": "code",
   "execution_count": 123,
   "metadata": {},
   "outputs": [
    {
     "name": "stdout",
     "output_type": "stream",
     "text": [
      "c:  0  error:  1693607809.4361455  B: [[8.60621757e-02]\n",
      " [4.18153237e+03]\n",
      " [2.96892031e+02]]\n",
      "c:  1  error:  1179988448.4909174  B: [[2.04728072e-02]\n",
      " [4.19224647e+03]\n",
      " [2.36850498e+02]]\n",
      "c:  2  error:  191655054.18997768  B: [[5.75147020e-02]\n",
      " [3.78826098e+03]\n",
      " [2.49387471e+02]]\n",
      "c:  3  error:  945626514.2759025  B: [[-2.49091191e-02]\n",
      " [ 5.60261278e+03]\n",
      " [ 3.36708347e+02]]\n",
      "c:  4  error:  23100681610.38656  B: [[8.61733995e-03]\n",
      " [5.55250245e+03]\n",
      " [3.43047728e+02]]\n",
      "c:  5  error:  1634475346.1566615  B: [[7.53998685e-03]\n",
      " [5.55398026e+03]\n",
      " [2.85254123e+02]]\n",
      "c:  6  error:  17380570859.85544  B: [[1.30450401e-02]\n",
      " [4.93567561e+03]\n",
      " [2.76991894e+02]]\n",
      "c:  7  error:  303025952.2744232  B: [[2.06509823e-02]\n",
      " [4.92754467e+03]\n",
      " [2.94676549e+02]]\n",
      "c:  8  error:  12825793.491597738  B: [[2.15702305e-02]\n",
      " [5.11645406e+03]\n",
      " [3.07924660e+02]]\n",
      "c:  9  error:  20625.002041582964  B: [[3.35796797e-03]\n",
      " [5.75032626e+03]\n",
      " [3.31150665e+02]]\n",
      "c:  10  error:  1671750957.0141044  B: [[6.30257006e-03]\n",
      " [6.51551168e+03]\n",
      " [3.55873233e+02]]\n",
      "c:  11  error:  1890967775.4066813  B: [[4.91511334e-03]\n",
      " [6.36105029e+03]\n",
      " [3.51079785e+02]]\n",
      "c:  12  error:  32498424.542887308  B: [[4.64603937e-03]\n",
      " [6.34089321e+03]\n",
      " [3.50548525e+02]]\n",
      "c:  13  error:  17954.713334284443  B: [[5.11728287e-03]\n",
      " [6.25383282e+03]\n",
      " [3.47666710e+02]]\n",
      "c:  14  error:  119268.9681001006  B: [[5.55768282e-03]\n",
      " [6.18600936e+03]\n",
      " [3.45386634e+02]]\n",
      "c:  15  error:  60243.19232551048  B: [[5.59557274e-03]\n",
      " [6.18342547e+03]\n",
      " [3.45293602e+02]]\n",
      "c:  16  error:  88.99791313443254  B: [[5.60861213e-03]\n",
      " [6.18149618e+03]\n",
      " [3.45228683e+02]]\n",
      "c:  17  error:  87.98301514468366  B: [[5.60960249e-03]\n",
      " [6.18135138e+03]\n",
      " [3.45223804e+02]]\n",
      "c:  18  error:  87.94585668364175  B: [[5.60958571e-03]\n",
      " [6.18135389e+03]\n",
      " [3.45223889e+02]]\n",
      "time taken to execute:  0.014939400000002934\n",
      "SD error is 8.80565725241575\n"
     ]
    }
   ],
   "source": [
    "## Numerical Differentiation\n",
    "\n",
    "b = np.array([100.0,10.0,1.0,1.0]).reshape(-1,1)\n",
    "b = np.array([0.02,4000.0,250.0]).reshape(-1,1)\n",
    "\n",
    "x=x.detach().numpy()\n",
    "\n",
    "u=0.1 #beta multiply identity matrix\n",
    "beta = 10\n",
    "V_prev = 0\n",
    "\n",
    "\n",
    "def f0(b0):\n",
    "    return  b0*np.exp(b[1]/(x+b[2])) -y.detach().numpy()  \n",
    "def f1(b1):\n",
    "    return b[0]*np.exp(b1/(x+b[2]))-y.detach().numpy()  \n",
    "def f2(b2):\n",
    "    return  b[0]*np.exp(b[1]/(x+b2)) -y.detach().numpy()  \n",
    "\n",
    "\n",
    "start_time = time.perf_counter()\n",
    "for c in range(500):\n",
    "    \n",
    "    y_pred = b[0]*np.exp(b[1]/(x+b[2]))\n",
    "    error = (y_pred - y.detach().numpy()).reshape(-1,1)\n",
    "    \n",
    "    d_b0 = derivative(f0,b[0] , dx=1e-6)\n",
    "    d_b1 = derivative(f1,b[1] , dx=1e-6)\n",
    "    d_b2 = derivative(f2,b[2] , dx=1e-6)\n",
    "     \n",
    "    jacobian = np.transpose(np.array([d_b0,d_b1,d_b2]))\n",
    "    dParam = np.matmul(np.matmul(np.linalg.inv((np.matmul(np.transpose(jacobian),jacobian)+u*np.identity(len(b)))),np.transpose(jacobian)),error)\n",
    "    b -= dParam\n",
    "    V = np.sum(np.square(error))\n",
    "    if(V > V_prev):\n",
    "            u *= beta\n",
    "    else:\n",
    "            u /= beta\n",
    "    V_prev = V\n",
    "    print(\"c: \",c,\" error: \",V,\" B:\", b)\n",
    "    if V < 8.7945859E+01:\n",
    "        break\n",
    "print(\"time taken to execute: \",time.perf_counter()-start_time) \n",
    "print(\"SD error is\", np.std(np.square(loss.detach().numpy())))"
   ]
  },
  {
   "cell_type": "code",
   "execution_count": 124,
   "metadata": {},
   "outputs": [],
   "source": [
    "def Jacobian(loss,params,numParams):\n",
    "    \n",
    "    jacobian = torch.empty(len(loss), numParams) \n",
    "    \n",
    "    for i in range(len(loss)):\n",
    "        \n",
    "        loss[i].backward(retain_graph=True)\n",
    "        \n",
    "        for n in range(numParams):\n",
    "            jacobian[i][n] = params.grad[n]\n",
    "        params.grad.zero_()      \n",
    "    return jacobian    "
   ]
  },
  {
   "cell_type": "code",
   "execution_count": null,
   "metadata": {},
   "outputs": [],
   "source": []
  },
  {
   "cell_type": "code",
   "execution_count": 125,
   "metadata": {},
   "outputs": [
    {
     "ename": "TypeError",
     "evalue": "exp(): argument 'input' (position 1) must be Tensor, not numpy.ndarray",
     "output_type": "error",
     "traceback": [
      "\u001b[1;31m---------------------------------------------------------------------------\u001b[0m",
      "\u001b[1;31mTypeError\u001b[0m                                 Traceback (most recent call last)",
      "\u001b[1;32m<ipython-input-125-10e89d22357b>\u001b[0m in \u001b[0;36m<module>\u001b[1;34m\u001b[0m\n\u001b[0;32m      7\u001b[0m \u001b[1;32mfor\u001b[0m \u001b[0mc\u001b[0m \u001b[1;32min\u001b[0m \u001b[0mrange\u001b[0m\u001b[1;33m(\u001b[0m\u001b[1;36m500\u001b[0m\u001b[1;33m)\u001b[0m\u001b[1;33m:\u001b[0m\u001b[1;33m\u001b[0m\u001b[1;33m\u001b[0m\u001b[0m\n\u001b[0;32m      8\u001b[0m \u001b[1;33m\u001b[0m\u001b[0m\n\u001b[1;32m----> 9\u001b[1;33m     \u001b[0my_pred\u001b[0m \u001b[1;33m=\u001b[0m \u001b[0mb\u001b[0m\u001b[1;33m[\u001b[0m\u001b[1;36m0\u001b[0m\u001b[1;33m]\u001b[0m\u001b[1;33m*\u001b[0m\u001b[0mtorch\u001b[0m\u001b[1;33m.\u001b[0m\u001b[0mexp\u001b[0m\u001b[1;33m(\u001b[0m\u001b[0mb\u001b[0m\u001b[1;33m[\u001b[0m\u001b[1;36m1\u001b[0m\u001b[1;33m]\u001b[0m\u001b[1;33m/\u001b[0m\u001b[1;33m(\u001b[0m\u001b[0mx\u001b[0m\u001b[1;33m+\u001b[0m\u001b[0mb\u001b[0m\u001b[1;33m[\u001b[0m\u001b[1;36m2\u001b[0m\u001b[1;33m]\u001b[0m\u001b[1;33m)\u001b[0m\u001b[1;33m)\u001b[0m\u001b[1;33m\u001b[0m\u001b[1;33m\u001b[0m\u001b[0m\n\u001b[0m\u001b[0;32m     10\u001b[0m \u001b[1;33m\u001b[0m\u001b[0m\n\u001b[0;32m     11\u001b[0m     \u001b[0mloss\u001b[0m \u001b[1;33m=\u001b[0m \u001b[0my_pred\u001b[0m\u001b[1;33m-\u001b[0m\u001b[0my\u001b[0m\u001b[1;33m\u001b[0m\u001b[1;33m\u001b[0m\u001b[0m\n",
      "\u001b[1;31mTypeError\u001b[0m: exp(): argument 'input' (position 1) must be Tensor, not numpy.ndarray"
     ]
    }
   ],
   "source": [
    "## Automatic Differentiation\n",
    "num_param = len(b)\n",
    "u=0.1 #beta multiply identity matrix\n",
    "beta = 10\n",
    "error_prev = 0\n",
    "start_time = time.perf_counter()\n",
    "for c in range(500):\n",
    "    \n",
    "    y_pred = b[0]*torch.exp(b[1]/(x+b[2]))\n",
    "    \n",
    "    loss = y_pred-y\n",
    "    error = torch.sum(torch.square(loss)) #residual sum of squares\n",
    "    print(\"\",c,\" error is: \",error.detach().numpy(),\" b is \", b.detach().numpy())\n",
    "    jacobian = Jacobian(loss,b,len(b))\n",
    "\n",
    "    dParam = torch.matmul(torch.matmul(torch.inverse(torch.matmul(torch.transpose(jacobian,-1,0),jacobian)+u*torch.eye(num_param, num_param)),torch.transpose(jacobian,-1,0)),loss.float())\n",
    "    with torch.no_grad():\n",
    "        b -=dParam\n",
    "    \n",
    "        if(error > error_prev):\n",
    "            u *= beta\n",
    "        else:\n",
    "            u /= beta\n",
    "        error_prev = error\n",
    "    if error<  8.794586E+01: # given residual sum of squares\n",
    "        break\n",
    "print(\"time taken to execute: \",time.perf_counter()-start_time) \n",
    "print(\"SD error is\", np.std(np.square(loss.detach().numpy())))"
   ]
  },
  {
   "cell_type": "code",
   "execution_count": null,
   "metadata": {},
   "outputs": [],
   "source": [
    "plt.plot(y_pred.detach(),'g', y,'r.')"
   ]
  },
  {
   "cell_type": "code",
   "execution_count": null,
   "metadata": {},
   "outputs": [],
   "source": [
    "y_pred = b[0] / (torch.pow(1+torch.exp(b[1]-b[2]*x),(1/b[3])))\n",
    "\n"
   ]
  },
  {
   "cell_type": "code",
   "execution_count": null,
   "metadata": {},
   "outputs": [],
   "source": []
  }
 ],
 "metadata": {
  "kernelspec": {
   "display_name": "Python 3",
   "language": "python",
   "name": "python3"
  },
  "language_info": {
   "codemirror_mode": {
    "name": "ipython",
    "version": 3
   },
   "file_extension": ".py",
   "mimetype": "text/x-python",
   "name": "python",
   "nbconvert_exporter": "python",
   "pygments_lexer": "ipython3",
   "version": "3.8.3"
  }
 },
 "nbformat": 4,
 "nbformat_minor": 4
}
