{
 "cells": [
  {
   "cell_type": "code",
   "execution_count": 69,
   "metadata": {},
   "outputs": [],
   "source": [
    "import numpy as np\n",
    "import matplotlib.pyplot as plt\n",
    "import torch\n",
    "import pandas as pd\n",
    "from scipy.misc import derivative\n",
    "import time"
   ]
  },
  {
   "cell_type": "code",
   "execution_count": 70,
   "metadata": {
    "scrolled": true
   },
   "outputs": [
    {
     "data": {
      "text/html": [
       "<div>\n",
       "<style scoped>\n",
       "    .dataframe tbody tr th:only-of-type {\n",
       "        vertical-align: middle;\n",
       "    }\n",
       "\n",
       "    .dataframe tbody tr th {\n",
       "        vertical-align: top;\n",
       "    }\n",
       "\n",
       "    .dataframe thead th {\n",
       "        text-align: right;\n",
       "    }\n",
       "</style>\n",
       "<table border=\"1\" class=\"dataframe\">\n",
       "  <thead>\n",
       "    <tr style=\"text-align: right;\">\n",
       "      <th></th>\n",
       "      <th>y</th>\n",
       "      <th>x</th>\n",
       "    </tr>\n",
       "  </thead>\n",
       "  <tbody>\n",
       "    <tr>\n",
       "      <th>NaN</th>\n",
       "      <td>0.0082</td>\n",
       "      <td>9.65</td>\n",
       "    </tr>\n",
       "    <tr>\n",
       "      <th>NaN</th>\n",
       "      <td>0.0112</td>\n",
       "      <td>10.74</td>\n",
       "    </tr>\n",
       "    <tr>\n",
       "      <th>NaN</th>\n",
       "      <td>0.0149</td>\n",
       "      <td>11.81</td>\n",
       "    </tr>\n",
       "    <tr>\n",
       "      <th>NaN</th>\n",
       "      <td>0.0198</td>\n",
       "      <td>12.88</td>\n",
       "    </tr>\n",
       "    <tr>\n",
       "      <th>NaN</th>\n",
       "      <td>0.0248</td>\n",
       "      <td>14.06</td>\n",
       "    </tr>\n",
       "    <tr>\n",
       "      <th>...</th>\n",
       "      <td>...</td>\n",
       "      <td>...</td>\n",
       "    </tr>\n",
       "    <tr>\n",
       "      <th>NaN</th>\n",
       "      <td>90.5500</td>\n",
       "      <td>360.20</td>\n",
       "    </tr>\n",
       "    <tr>\n",
       "      <th>NaN</th>\n",
       "      <td>90.9300</td>\n",
       "      <td>362.67</td>\n",
       "    </tr>\n",
       "    <tr>\n",
       "      <th>NaN</th>\n",
       "      <td>91.2000</td>\n",
       "      <td>364.53</td>\n",
       "    </tr>\n",
       "    <tr>\n",
       "      <th>NaN</th>\n",
       "      <td>91.5500</td>\n",
       "      <td>367.00</td>\n",
       "    </tr>\n",
       "    <tr>\n",
       "      <th>NaN</th>\n",
       "      <td>92.2000</td>\n",
       "      <td>371.30</td>\n",
       "    </tr>\n",
       "  </tbody>\n",
       "</table>\n",
       "<p>151 rows × 2 columns</p>\n",
       "</div>"
      ],
      "text/plain": [
       "           y       x\n",
       "NaN   0.0082    9.65\n",
       "NaN   0.0112   10.74\n",
       "NaN   0.0149   11.81\n",
       "NaN   0.0198   12.88\n",
       "NaN   0.0248   14.06\n",
       "..       ...     ...\n",
       "NaN  90.5500  360.20\n",
       "NaN  90.9300  362.67\n",
       "NaN  91.2000  364.53\n",
       "NaN  91.5500  367.00\n",
       "NaN  92.2000  371.30\n",
       "\n",
       "[151 rows x 2 columns]"
      ]
     },
     "execution_count": 70,
     "metadata": {},
     "output_type": "execute_result"
    }
   ],
   "source": [
    "data= pd.read_csv(\"Kirby2.txt\",names=['y','x'], sep=\" \")\n",
    "\n",
    "data"
   ]
  },
  {
   "cell_type": "code",
   "execution_count": 71,
   "metadata": {},
   "outputs": [],
   "source": [
    "y = torch.from_numpy(data['y'].to_numpy(np.float64))\n",
    "x = torch.from_numpy(data['x'].to_numpy(np.float64))\n",
    "\n",
    "b = torch.tensor([2.0,-0.1,0.003,-0.001,0.00001],requires_grad=True)\n",
    "# b = torch.tensor([1.5,-0.15,0.0025,-0.0015,0.00002],requires_grad=True)"
   ]
  },
  {
   "cell_type": "code",
   "execution_count": 72,
   "metadata": {
    "scrolled": true
   },
   "outputs": [
    {
     "data": {
      "text/plain": [
       "[<matplotlib.lines.Line2D at 0x2476a51a610>]"
      ]
     },
     "execution_count": 72,
     "metadata": {},
     "output_type": "execute_result"
    },
    {
     "data": {
      "image/png": "[encoded data removed]",
      "text/plain": [
       "<Figure size 432x288 with 1 Axes>"
      ]
     },
     "metadata": {
      "needs_background": "light"
     },
     "output_type": "display_data"
    }
   ],
   "source": [
    "plt.plot(x.numpy(),y.numpy())"
   ]
  },
  {
   "cell_type": "code",
   "execution_count": 73,
   "metadata": {},
   "outputs": [],
   "source": [
    "## Numerical Differentiation\n",
    "\n",
    "# b = np.array([2.0,-0.1,0.003,-0.001,0.00001]).reshape(-1,1)\n",
    "# # b = np.array([100.0,0.75]).reshape(-1,1)\n",
    "\n",
    "# x=x.detach().numpy()\n",
    "\n",
    "# u=0.1 #beta multiply identity matrix\n",
    "# beta = 10\n",
    "# V_prev = 0\n",
    "\n",
    "\n",
    "# def f0(b0):\n",
    "#     return (b0 + b[1]*x + b[2]*np.square(x)) / (1 + b[3]*x + b[4]*np.square(x))  +  np.exp(1.0) -y.detach().numpy()  \n",
    "# def f1(b1):\n",
    "#     return (b[0] + b1*x + b[2]*np.square(x)) / (1 + b[3]*x + b[4]*np.square(x))  +  np.exp(1.0) -y.detach().numpy()  \n",
    "# def f2(b2):\n",
    "#     return (b[0] + b[1]*x + b2*np.square(x)) / (1 + b[3]*x + b[4]*np.square(x))  +  np.exp(1.0)-y.detach().numpy()  \n",
    "# def f3(b3):\n",
    "#     return (b[0] + b[1]*x + b[2]*np.square(x)) / (1 + b3*x + b[4]*np.square(x))  +  np.exp(1.0)-y.detach().numpy()\n",
    "# def f4(b4):\n",
    "#     return (b[0] + b[1]*x + b[2]*np.square(x)) / (1 + b[3]*x + b4*np.square(x))  +  np.exp(1.0)-y.detach().numpy()  \n",
    "\n",
    "\n",
    "# start_time = time.time()\n",
    "# for c in range(500):\n",
    "#     y_pred =(b[0] + b[1]*x + b[2]*np.square(x)) / (1 + b[3]*x + b[4]*np.square(x))  +  np.exp(1.0)\n",
    "#     error = (y_pred - y.detach().numpy()).reshape(-1,1)\n",
    "    \n",
    "#     d_b0 = derivative(f0,b[0] , dx=1e-6)\n",
    "#     d_b1 = derivative(f1,b[1] , dx=1e-6)\n",
    "#     d_b2 = derivative(f2,b[2] , dx=1e-6)\n",
    "#     d_b3 = derivative(f3,b[3] , dx=1e-6)\n",
    "#     d_b4 = derivative(f4,b[4] , dx=1e-6)\n",
    "    \n",
    "     \n",
    "#     jacobian = np.transpose(np.array([d_b0,d_b1,d_b2,d_b3,d_b4]))\n",
    "#     dParam = np.matmul(np.matmul(np.linalg.inv((np.matmul(np.transpose(jacobian),jacobian)+u*np.identity(len(b)))),np.transpose(jacobian)),error)\n",
    "#     b -= dParam\n",
    "#     V = np.sum(np.square(error))\n",
    "#     if(V > V_prev):\n",
    "#             u *= beta\n",
    "#     else:\n",
    "#             u /= beta\n",
    "#     V_prev = V\n",
    "#     print(\"c: \",c,\" error: \",V,\" B:\", b)\n",
    "    \n",
    "#     if V < 3.9050739625:\n",
    "#         break\n",
    "# print(\"time taken to execute: \",time.time()-start_time)  "
   ]
  },
  {
   "cell_type": "code",
   "execution_count": null,
   "metadata": {},
   "outputs": [],
   "source": []
  },
  {
   "cell_type": "code",
   "execution_count": 74,
   "metadata": {},
   "outputs": [],
   "source": [
    "def Jacobian(loss,params,numParams):\n",
    "    \n",
    "    jacobian = torch.empty(len(loss), numParams) \n",
    "    \n",
    "    for i in range(len(loss)):\n",
    "        \n",
    "        loss[i].backward(retain_graph=True)\n",
    "        \n",
    "        for n in range(numParams):\n",
    "            jacobian[i][n] = params.grad[n]\n",
    "        params.grad.zero_()      \n",
    "    return jacobian    \n",
    "              "
   ]
  },
  {
   "cell_type": "code",
   "execution_count": 75,
   "metadata": {},
   "outputs": [
    {
     "name": "stdout",
     "output_type": "stream",
     "text": [
      " 0  error is:  407170.50101725745  b is  [ 2.e+00 -1.e-01  3.e-03 -1.e-03  1.e-05]\n",
      " 1  error is:  33998.552731893295  b is  [-7.1103334e-01 -1.6259955e-01  3.0323656e-03 -1.2216205e-04\n",
      "  1.4467617e-05]\n",
      " 2  error is:  677.4396996847383  b is  [-7.5646013e-01 -1.5952915e-01  2.8606090e-03 -6.8718288e-04\n",
      "  2.0255917e-05]\n",
      " 3  error is:  7.327662017029144  b is  [-1.0743562e+00 -1.3290888e-01  2.5214222e-03 -1.7567298e-03\n",
      "  2.1713255e-05]\n",
      " 4  error is:  3.90509634851561  b is  [-1.0425310e+00 -1.3465323e-01  2.5378398e-03 -1.7235737e-03\n",
      "  2.1668269e-05]\n",
      " 5  error is:  3.9050740114472298  b is  [-1.0438586e+00 -1.3458201e-01  2.5371742e-03 -1.7242539e-03\n",
      "  2.1664564e-05]\n",
      " 6  error is:  3.9050739647754615  b is  [-1.0437678e+00 -1.3458763e-01  2.5372319e-03 -1.7241749e-03\n",
      "  2.1664824e-05]\n",
      " 7  error is:  3.905073964690452  b is  [-1.0437763e+00 -1.3458712e-01  2.5372265e-03 -1.7241816e-03\n",
      "  2.1664800e-05]\n",
      " 8  error is:  3.905073962429607  b is  [-1.0437753e+00 -1.3458717e-01  2.5372270e-03 -1.7241813e-03\n",
      "  2.1664802e-05]\n",
      "time taken to execute:  0.2892775000000256\n"
     ]
    },
    {
     "data": {
      "text/plain": [
       "[<matplotlib.lines.Line2D at 0x24769db8910>]"
      ]
     },
     "execution_count": 75,
     "metadata": {},
     "output_type": "execute_result"
    },
    {
     "data": {
      "image/png": "[encoded data removed]",
      "text/plain": [
       "<Figure size 432x288 with 1 Axes>"
      ]
     },
     "metadata": {
      "needs_background": "light"
     },
     "output_type": "display_data"
    }
   ],
   "source": [
    "### Gauss-Newton Method with AD\n",
    "loss_graph = torch.empty(0)\n",
    "start_time = time.perf_counter()\n",
    "for c in range(100):\n",
    "    y_pred =(b[0] + b[1]*x + b[2]*torch.square(x)) / (1 + b[3]*x + b[4]*torch.square(x))  +  torch.exp(torch.tensor([1.0]))\n",
    "\n",
    "    loss = y_pred-y\n",
    "    error = torch.sum(torch.square(loss)) ##Residual sum of squares\n",
    "    print(\"\",c,\" error is: \",error.detach().numpy(),\" b is \", b.detach().numpy())\n",
    "    jacobian = Jacobian(loss,b,len(b))\n",
    "\n",
    "    loss_graph = torch.cat((loss_graph, error.detach().flatten().float()),0)\n",
    "    \n",
    "    dParam = torch.matmul(torch.matmul(torch.inverse(torch.matmul(torch.transpose(jacobian,-1,0),jacobian)),torch.transpose(jacobian,-1,0)),loss.float())\n",
    "    with torch.no_grad():\n",
    "        b -=dParam\n",
    "    if error<3.9050739625E+00: #3.9050739624 given residual sum of squares\n",
    "        break\n",
    "print(\"time taken to execute: \",time.perf_counter()-start_time)   \n",
    "plt.plot(loss_graph)"
   ]
  },
  {
   "cell_type": "code",
   "execution_count": 76,
   "metadata": {
    "scrolled": false
   },
   "outputs": [],
   "source": [
    "## Automatic Differentiation\n",
    "# num_param = len(b)\n",
    "# u=0.1 #beta multiply identity matrix\n",
    "# beta = 10\n",
    "# error_prev = 0\n",
    "# start_time = time.perf_counter()\n",
    "# for c in range(100):\n",
    "#     y_pred =(b[0] + b[1]*x + b[2]*torch.square(x)) / (1 + b[3]*x + b[4]*torch.square(x))  +  torch.exp(torch.tensor([1.0]))\n",
    "\n",
    "\n",
    "#     loss = y_pred-y\n",
    "#     error = torch.sum(torch.square(loss)) #residual sum of squares\n",
    "#     print(\"\",c,\" error is: \",error.detach().numpy(),\" b is \", b.detach().numpy())\n",
    "#     jacobian = Jacobian(loss,b,len(b))\n",
    "\n",
    "#     dParam = torch.matmul(torch.matmul(torch.inverse(torch.matmul(torch.transpose(jacobian,-1,0),jacobian)+u*torch.eye(num_param, num_param)),torch.transpose(jacobian,-1,0)),loss.float())\n",
    "#     with torch.no_grad():\n",
    "#         b -=dParam\n",
    "    \n",
    "#         if(error > error_prev):\n",
    "#             u *= beta\n",
    "#         else:\n",
    "#             u /= beta\n",
    "#         error_prev = error\n",
    "#     if error<3.9050739625: #3.9050739624 given residual sum of squares\n",
    "#         break\n",
    "# print(\"time taken to execute: \",time.perf_counter()-start_time)    "
   ]
  },
  {
   "cell_type": "code",
   "execution_count": 77,
   "metadata": {},
   "outputs": [
    {
     "data": {
      "text/plain": [
       "[<matplotlib.lines.Line2D at 0x24769b146a0>,\n",
       " <matplotlib.lines.Line2D at 0x24769b14790>]"
      ]
     },
     "execution_count": 77,
     "metadata": {},
     "output_type": "execute_result"
    },
    {
     "data": {
      "image/png": "[encoded data removed]",
      "text/plain": [
       "<Figure size 432x288 with 1 Axes>"
      ]
     },
     "metadata": {
      "needs_background": "light"
     },
     "output_type": "display_data"
    }
   ],
   "source": [
    "plt.plot(y_pred.detach(),'g', y,'r')"
   ]
  }
 ],
 "metadata": {
  "kernelspec": {
   "display_name": "Python 3",
   "language": "python",
   "name": "python3"
  },
  "language_info": {
   "codemirror_mode": {
    "name": "ipython",
    "version": 3
   },
   "file_extension": ".py",
   "mimetype": "text/x-python",
   "name": "python",
   "nbconvert_exporter": "python",
   "pygments_lexer": "ipython3",
   "version": "3.8.3"
  }
 },
 "nbformat": 4,
 "nbformat_minor": 4
}
