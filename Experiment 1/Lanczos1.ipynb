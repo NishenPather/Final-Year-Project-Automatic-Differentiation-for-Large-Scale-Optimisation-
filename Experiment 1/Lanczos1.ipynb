{
 "cells": [
  {
   "cell_type": "code",
   "execution_count": 1,
   "metadata": {},
   "outputs": [],
   "source": [
    "import numpy as np\n",
    "import matplotlib.pyplot as plt\n",
    "import torch\n",
    "import pandas as pd\n",
    "from scipy.misc import derivative\n",
    "import time"
   ]
  },
  {
   "cell_type": "code",
   "execution_count": 2,
   "metadata": {},
   "outputs": [
    {
     "data": {
      "text/html": [
       "<div>\n",
       "<style scoped>\n",
       "    .dataframe tbody tr th:only-of-type {\n",
       "        vertical-align: middle;\n",
       "    }\n",
       "\n",
       "    .dataframe tbody tr th {\n",
       "        vertical-align: top;\n",
       "    }\n",
       "\n",
       "    .dataframe thead th {\n",
       "        text-align: right;\n",
       "    }\n",
       "</style>\n",
       "<table border=\"1\" class=\"dataframe\">\n",
       "  <thead>\n",
       "    <tr style=\"text-align: right;\">\n",
       "      <th></th>\n",
       "      <th>y</th>\n",
       "      <th>x</th>\n",
       "    </tr>\n",
       "  </thead>\n",
       "  <tbody>\n",
       "    <tr>\n",
       "      <th>NaN</th>\n",
       "      <td>2.513400</td>\n",
       "      <td>0.00</td>\n",
       "    </tr>\n",
       "    <tr>\n",
       "      <th>NaN</th>\n",
       "      <td>2.044333</td>\n",
       "      <td>0.05</td>\n",
       "    </tr>\n",
       "    <tr>\n",
       "      <th>NaN</th>\n",
       "      <td>1.668404</td>\n",
       "      <td>0.10</td>\n",
       "    </tr>\n",
       "    <tr>\n",
       "      <th>NaN</th>\n",
       "      <td>1.366418</td>\n",
       "      <td>0.15</td>\n",
       "    </tr>\n",
       "    <tr>\n",
       "      <th>NaN</th>\n",
       "      <td>1.123232</td>\n",
       "      <td>0.20</td>\n",
       "    </tr>\n",
       "    <tr>\n",
       "      <th>NaN</th>\n",
       "      <td>0.926890</td>\n",
       "      <td>0.25</td>\n",
       "    </tr>\n",
       "    <tr>\n",
       "      <th>NaN</th>\n",
       "      <td>0.767934</td>\n",
       "      <td>0.30</td>\n",
       "    </tr>\n",
       "    <tr>\n",
       "      <th>NaN</th>\n",
       "      <td>0.638878</td>\n",
       "      <td>0.35</td>\n",
       "    </tr>\n",
       "    <tr>\n",
       "      <th>NaN</th>\n",
       "      <td>0.533784</td>\n",
       "      <td>0.40</td>\n",
       "    </tr>\n",
       "    <tr>\n",
       "      <th>NaN</th>\n",
       "      <td>0.447936</td>\n",
       "      <td>0.45</td>\n",
       "    </tr>\n",
       "    <tr>\n",
       "      <th>NaN</th>\n",
       "      <td>0.377585</td>\n",
       "      <td>0.50</td>\n",
       "    </tr>\n",
       "    <tr>\n",
       "      <th>NaN</th>\n",
       "      <td>0.319739</td>\n",
       "      <td>0.55</td>\n",
       "    </tr>\n",
       "    <tr>\n",
       "      <th>NaN</th>\n",
       "      <td>0.272013</td>\n",
       "      <td>0.60</td>\n",
       "    </tr>\n",
       "    <tr>\n",
       "      <th>NaN</th>\n",
       "      <td>0.232497</td>\n",
       "      <td>0.65</td>\n",
       "    </tr>\n",
       "    <tr>\n",
       "      <th>NaN</th>\n",
       "      <td>0.199659</td>\n",
       "      <td>0.70</td>\n",
       "    </tr>\n",
       "    <tr>\n",
       "      <th>NaN</th>\n",
       "      <td>0.172270</td>\n",
       "      <td>0.75</td>\n",
       "    </tr>\n",
       "    <tr>\n",
       "      <th>NaN</th>\n",
       "      <td>0.149341</td>\n",
       "      <td>0.80</td>\n",
       "    </tr>\n",
       "    <tr>\n",
       "      <th>NaN</th>\n",
       "      <td>0.130070</td>\n",
       "      <td>0.85</td>\n",
       "    </tr>\n",
       "    <tr>\n",
       "      <th>NaN</th>\n",
       "      <td>0.113812</td>\n",
       "      <td>0.90</td>\n",
       "    </tr>\n",
       "    <tr>\n",
       "      <th>NaN</th>\n",
       "      <td>0.100042</td>\n",
       "      <td>0.95</td>\n",
       "    </tr>\n",
       "    <tr>\n",
       "      <th>NaN</th>\n",
       "      <td>0.088332</td>\n",
       "      <td>1.00</td>\n",
       "    </tr>\n",
       "    <tr>\n",
       "      <th>NaN</th>\n",
       "      <td>0.078335</td>\n",
       "      <td>1.05</td>\n",
       "    </tr>\n",
       "    <tr>\n",
       "      <th>NaN</th>\n",
       "      <td>0.069767</td>\n",
       "      <td>1.10</td>\n",
       "    </tr>\n",
       "    <tr>\n",
       "      <th>NaN</th>\n",
       "      <td>0.062393</td>\n",
       "      <td>1.15</td>\n",
       "    </tr>\n",
       "  </tbody>\n",
       "</table>\n",
       "</div>"
      ],
      "text/plain": [
       "            y     x\n",
       "NaN  2.513400  0.00\n",
       "NaN  2.044333  0.05\n",
       "NaN  1.668404  0.10\n",
       "NaN  1.366418  0.15\n",
       "NaN  1.123232  0.20\n",
       "NaN  0.926890  0.25\n",
       "NaN  0.767934  0.30\n",
       "NaN  0.638878  0.35\n",
       "NaN  0.533784  0.40\n",
       "NaN  0.447936  0.45\n",
       "NaN  0.377585  0.50\n",
       "NaN  0.319739  0.55\n",
       "NaN  0.272013  0.60\n",
       "NaN  0.232497  0.65\n",
       "NaN  0.199659  0.70\n",
       "NaN  0.172270  0.75\n",
       "NaN  0.149341  0.80\n",
       "NaN  0.130070  0.85\n",
       "NaN  0.113812  0.90\n",
       "NaN  0.100042  0.95\n",
       "NaN  0.088332  1.00\n",
       "NaN  0.078335  1.05\n",
       "NaN  0.069767  1.10\n",
       "NaN  0.062393  1.15"
      ]
     },
     "execution_count": 2,
     "metadata": {},
     "output_type": "execute_result"
    }
   ],
   "source": [
    "data= pd.read_csv(\"Lanczos1 Data.txt\",names=['y','x'], sep=\" \")\n",
    "\n",
    "data"
   ]
  },
  {
   "cell_type": "code",
   "execution_count": 3,
   "metadata": {},
   "outputs": [],
   "source": [
    "y = torch.from_numpy(data['y'].to_numpy(np.float64))\n",
    "x = torch.from_numpy(data['x'].to_numpy(np.float64))\n",
    "\n",
    "# b = torch.tensor([1.2,0.3,5.6,5.5,6.5,7.6],requires_grad=True)\n",
    "b = torch.tensor([0.5,0.7,3.6,4.2,4.0,6.3],requires_grad=True)"
   ]
  },
  {
   "cell_type": "code",
   "execution_count": 4,
   "metadata": {},
   "outputs": [
    {
     "data": {
      "text/plain": [
       "[<matplotlib.lines.Line2D at 0x210c5e4a340>]"
      ]
     },
     "execution_count": 4,
     "metadata": {},
     "output_type": "execute_result"
    },
    {
     "data": {
      "image/png": "[encoded data removed]",
      "text/plain": [
       "<Figure size 432x288 with 1 Axes>"
      ]
     },
     "metadata": {
      "needs_background": "light"
     },
     "output_type": "display_data"
    }
   ],
   "source": [
    "plt.plot(x.numpy(),y.numpy())"
   ]
  },
  {
   "cell_type": "code",
   "execution_count": 5,
   "metadata": {},
   "outputs": [],
   "source": [
    "def Jacobian(loss,params,numParams):\n",
    "    \n",
    "    jacobian = torch.empty(len(loss), numParams) \n",
    "    \n",
    "    for i in range(len(loss)):\n",
    "        \n",
    "        loss[i].backward(retain_graph=True)\n",
    "        \n",
    "        for n in range(numParams):\n",
    "            jacobian[i][n] = params.grad[n]\n",
    "        params.grad.zero_()      \n",
    "    return jacobian    "
   ]
  },
  {
   "cell_type": "code",
   "execution_count": 6,
   "metadata": {
    "scrolled": true
   },
   "outputs": [
    {
     "name": "stdout",
     "output_type": "stream",
     "text": [
      "c:  0  error:  269.75037483661  B: [[-0.22996363]\n",
      " [-0.02157119]\n",
      " [ 1.18181914]\n",
      " [ 4.4810285 ]\n",
      " [ 1.88506849]\n",
      " [ 7.4159447 ]]\n",
      "time taken to execute:  0.005984067916870117\n"
     ]
    }
   ],
   "source": [
    "## Numerical Differentiation\n",
    "\n",
    "b = np.array([1.2,0.3,5.6,5.5,6.5,7.6]).reshape(-1,1)\n",
    "# b = np.array([0.5,0.7,3.6,4.2,4.0,6.3]).reshape(-1,1)\n",
    "\n",
    "x=x.detach().numpy()\n",
    "\n",
    "u=0.1 #beta multiply identity matrix\n",
    "beta = 10\n",
    "V_prev = 0\n",
    "\n",
    "\n",
    "\n",
    "def f0(b0):\n",
    "    return b0*np.exp((-b[1]*x)) + b[2]*np.exp((-b[3]*x)) + b[4]*np.exp((-b[5]*x))-y.detach().numpy()  \n",
    "def f1(b1):\n",
    "    return b[0]*np.exp((-b1*x)) + b[2]*np.exp((-b[3]*x)) + b[4]*np.exp((-b[5]*x))-y.detach().numpy()  \n",
    "def f2(b2):\n",
    "    return b[0]*np.exp((-b[1]*x)) + b2*np.exp((-b[3]*x)) + b[4]*np.exp((-b[5]*x))-y.detach().numpy()  \n",
    "def f3(b3):\n",
    "    return b[0]*np.exp((-b[1]*x)) + b[2]*np.exp((-b3*x)) + b[4]*np.exp((-b[5]*x))-y.detach().numpy()  \n",
    "def f4(b4):\n",
    "    return b[0]*np.exp((-b[1]*x)) + b[2]*np.exp((-b[3]*x)) + b4*np.exp((-b[5]*x))-y.detach().numpy()  \n",
    "def f5(b5):\n",
    "    return b[0]*np.exp((-b[1]*x)) + b[2]*np.exp((-b[3]*x)) + b[4]*np.exp((-b5*x))-y.detach().numpy()  \n",
    "\n",
    "for c in range(500):\n",
    "    start_time = time.time()\n",
    "    y_pred = b[0]*np.exp((-b[1]*x)) + b[2]*np.exp((-b[3]*x)) + b[4]*np.exp((-b[5]*x))  \n",
    "    error = (y_pred - y.detach().numpy()).reshape(-1,1)\n",
    "    \n",
    "    d_b0 = derivative(f0,b[0] , dx=1e-6)\n",
    "    d_b1 = derivative(f1,b[1] , dx=1e-6)\n",
    "    d_b2 = derivative(f2,b[2] , dx=1e-6)\n",
    "    d_b3 = derivative(f3,b[3] , dx=1e-6)\n",
    "    d_b4 = derivative(f4,b[4] , dx=1e-6)\n",
    "    d_b5 = derivative(f5,b[5] , dx=1e-6)\n",
    "     \n",
    "    jacobian = np.transpose(np.array([d_b0,d_b1,d_b2,d_b3,d_b4,d_b5]))\n",
    "    dParam = np.matmul(np.matmul(np.linalg.inv((np.matmul(np.transpose(jacobian),jacobian)+u*np.identity(len(b)))),np.transpose(jacobian)),error)\n",
    "    b -= dParam\n",
    "    V = np.sum(np.square(error))\n",
    "    if(V > V_prev):\n",
    "            u *= beta\n",
    "    else:\n",
    "            u /= beta\n",
    "    V_prev = V\n",
    "    print(\"c: \",c,\" error: \",V,\" B:\", b)\n",
    "    \n",
    "    if V < 1.4307867721E-25:\n",
    "        break\n",
    "print(\"time taken to execute: \",time.time()-start_time)  "
   ]
  },
  {
   "cell_type": "code",
   "execution_count": 7,
   "metadata": {},
   "outputs": [],
   "source": [
    "def Jacobian_numerical(dParams,num_instances):\n",
    "    jacobian = np.empty(num_instances,len(dParams))\n",
    "    for i in range(num_instances):\n",
    "        \n",
    "        for n in range(dParams):\n",
    "            jacobian[i][n] = dParams[i][n]\n",
    "     \n",
    "    return jacobian   "
   ]
  },
  {
   "cell_type": "code",
   "execution_count": 9,
   "metadata": {},
   "outputs": [
    {
     "ename": "TypeError",
     "evalue": "exp(): argument 'input' (position 1) must be Tensor, not numpy.ndarray",
     "output_type": "error",
     "traceback": [
      "\u001b[1;31m---------------------------------------------------------------------------\u001b[0m",
      "\u001b[1;31mTypeError\u001b[0m                                 Traceback (most recent call last)",
      "\u001b[1;32m<ipython-input-9-db2fdc95f5d0>\u001b[0m in \u001b[0;36m<module>\u001b[1;34m\u001b[0m\n\u001b[0;32m      6\u001b[0m \u001b[1;32mfor\u001b[0m \u001b[0mc\u001b[0m \u001b[1;32min\u001b[0m \u001b[0mrange\u001b[0m\u001b[1;33m(\u001b[0m\u001b[1;36m500\u001b[0m\u001b[1;33m)\u001b[0m\u001b[1;33m:\u001b[0m\u001b[1;33m\u001b[0m\u001b[1;33m\u001b[0m\u001b[0m\n\u001b[0;32m      7\u001b[0m \u001b[1;33m\u001b[0m\u001b[0m\n\u001b[1;32m----> 8\u001b[1;33m     \u001b[0my_pred\u001b[0m \u001b[1;33m=\u001b[0m \u001b[0mb\u001b[0m\u001b[1;33m[\u001b[0m\u001b[1;36m0\u001b[0m\u001b[1;33m]\u001b[0m\u001b[1;33m*\u001b[0m\u001b[0mtorch\u001b[0m\u001b[1;33m.\u001b[0m\u001b[0mexp\u001b[0m\u001b[1;33m(\u001b[0m\u001b[1;33m(\u001b[0m\u001b[1;33m-\u001b[0m\u001b[0mb\u001b[0m\u001b[1;33m[\u001b[0m\u001b[1;36m1\u001b[0m\u001b[1;33m]\u001b[0m\u001b[1;33m*\u001b[0m\u001b[0mx\u001b[0m\u001b[1;33m)\u001b[0m\u001b[1;33m)\u001b[0m \u001b[1;33m+\u001b[0m \u001b[0mb\u001b[0m\u001b[1;33m[\u001b[0m\u001b[1;36m2\u001b[0m\u001b[1;33m]\u001b[0m\u001b[1;33m*\u001b[0m\u001b[0mtorch\u001b[0m\u001b[1;33m.\u001b[0m\u001b[0mexp\u001b[0m\u001b[1;33m(\u001b[0m\u001b[1;33m(\u001b[0m\u001b[1;33m-\u001b[0m\u001b[0mb\u001b[0m\u001b[1;33m[\u001b[0m\u001b[1;36m3\u001b[0m\u001b[1;33m]\u001b[0m\u001b[1;33m*\u001b[0m\u001b[0mx\u001b[0m\u001b[1;33m)\u001b[0m\u001b[1;33m)\u001b[0m \u001b[1;33m+\u001b[0m \u001b[0mb\u001b[0m\u001b[1;33m[\u001b[0m\u001b[1;36m4\u001b[0m\u001b[1;33m]\u001b[0m\u001b[1;33m*\u001b[0m\u001b[0mtorch\u001b[0m\u001b[1;33m.\u001b[0m\u001b[0mexp\u001b[0m\u001b[1;33m(\u001b[0m\u001b[1;33m(\u001b[0m\u001b[1;33m-\u001b[0m\u001b[0mb\u001b[0m\u001b[1;33m[\u001b[0m\u001b[1;36m5\u001b[0m\u001b[1;33m]\u001b[0m\u001b[1;33m*\u001b[0m\u001b[0mx\u001b[0m\u001b[1;33m)\u001b[0m\u001b[1;33m)\u001b[0m\u001b[1;33m\u001b[0m\u001b[1;33m\u001b[0m\u001b[0m\n\u001b[0m\u001b[0;32m      9\u001b[0m \u001b[1;33m\u001b[0m\u001b[0m\n\u001b[0;32m     10\u001b[0m     \u001b[0mloss\u001b[0m \u001b[1;33m=\u001b[0m \u001b[0my_pred\u001b[0m\u001b[1;33m-\u001b[0m\u001b[0my\u001b[0m\u001b[1;33m\u001b[0m\u001b[1;33m\u001b[0m\u001b[0m\n",
      "\u001b[1;31mTypeError\u001b[0m: exp(): argument 'input' (position 1) must be Tensor, not numpy.ndarray"
     ]
    }
   ],
   "source": [
    "## Automatic Differentiation\n",
    "num_param = len(b)\n",
    "u=0.1 #beta multiply identity matrix\n",
    "beta = 10\n",
    "error_prev = 0\n",
    "for c in range(500):\n",
    "    \n",
    "    y_pred = b[0]*torch.exp((-b[1]*x)) + b[2]*torch.exp((-b[3]*x)) + b[4]*torch.exp((-b[5]*x))  \n",
    "    \n",
    "    loss = y_pred-y\n",
    "    error = torch.sum(torch.square(loss)) #residual sum of squares\n",
    "    print(\"\",c,\" error is: \",error.detach().numpy(),\" b is \", b.detach().numpy())\n",
    "    jacobian = Jacobian(loss,b,len(b))\n",
    "\n",
    "    dParam = torch.matmul(torch.matmul(torch.inverse(torch.matmul(torch.transpose(jacobian,-1,0),jacobian)+u*torch.eye(num_param, num_param)),torch.transpose(jacobian,-1,0)),loss.float())\n",
    "    with torch.no_grad():\n",
    "        b -=dParam\n",
    "    \n",
    "        if(error > error_prev):\n",
    "            u *= beta\n",
    "        else:\n",
    "            u /= beta\n",
    "        error_prev = error\n",
    "    if error<1.4307867721E-25: #3.9050739624 given residual sum of squares\n",
    "        break\n",
    "    "
   ]
  },
  {
   "cell_type": "code",
   "execution_count": null,
   "metadata": {},
   "outputs": [],
   "source": [
    "plt.plot(y_pred.detach(),'g.', y,'r')"
   ]
  }
 ],
 "metadata": {
  "kernelspec": {
   "display_name": "Python 3",
   "language": "python",
   "name": "python3"
  },
  "language_info": {
   "codemirror_mode": {
    "name": "ipython",
    "version": 3
   },
   "file_extension": ".py",
   "mimetype": "text/x-python",
   "name": "python",
   "nbconvert_exporter": "python",
   "pygments_lexer": "ipython3",
   "version": "3.8.3"
  }
 },
 "nbformat": 4,
 "nbformat_minor": 4
}
