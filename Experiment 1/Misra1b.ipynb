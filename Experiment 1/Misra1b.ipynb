{
 "cells": [
  {
   "cell_type": "code",
   "execution_count": 52,
   "metadata": {},
   "outputs": [],
   "source": [
    "import matplotlib.pyplot as plt\n",
    "import torch\n",
    "import pandas as pd\n",
    "from scipy.misc import derivative\n",
    "import time"
   ]
  },
  {
   "cell_type": "code",
   "execution_count": 53,
   "metadata": {},
   "outputs": [
    {
     "data": {
      "text/html": [
       "<div>\n",
       "<style scoped>\n",
       "    .dataframe tbody tr th:only-of-type {\n",
       "        vertical-align: middle;\n",
       "    }\n",
       "\n",
       "    .dataframe tbody tr th {\n",
       "        vertical-align: top;\n",
       "    }\n",
       "\n",
       "    .dataframe thead th {\n",
       "        text-align: right;\n",
       "    }\n",
       "</style>\n",
       "<table border=\"1\" class=\"dataframe\">\n",
       "  <thead>\n",
       "    <tr style=\"text-align: right;\">\n",
       "      <th></th>\n",
       "      <th>y</th>\n",
       "      <th>x</th>\n",
       "    </tr>\n",
       "  </thead>\n",
       "  <tbody>\n",
       "    <tr>\n",
       "      <th>NaN</th>\n",
       "      <td>10.07</td>\n",
       "      <td>77.6</td>\n",
       "    </tr>\n",
       "    <tr>\n",
       "      <th>NaN</th>\n",
       "      <td>14.73</td>\n",
       "      <td>114.9</td>\n",
       "    </tr>\n",
       "    <tr>\n",
       "      <th>NaN</th>\n",
       "      <td>17.94</td>\n",
       "      <td>141.1</td>\n",
       "    </tr>\n",
       "    <tr>\n",
       "      <th>NaN</th>\n",
       "      <td>23.93</td>\n",
       "      <td>190.8</td>\n",
       "    </tr>\n",
       "    <tr>\n",
       "      <th>NaN</th>\n",
       "      <td>29.61</td>\n",
       "      <td>239.9</td>\n",
       "    </tr>\n",
       "    <tr>\n",
       "      <th>NaN</th>\n",
       "      <td>35.18</td>\n",
       "      <td>289.0</td>\n",
       "    </tr>\n",
       "    <tr>\n",
       "      <th>NaN</th>\n",
       "      <td>40.02</td>\n",
       "      <td>332.8</td>\n",
       "    </tr>\n",
       "    <tr>\n",
       "      <th>NaN</th>\n",
       "      <td>44.82</td>\n",
       "      <td>378.4</td>\n",
       "    </tr>\n",
       "    <tr>\n",
       "      <th>NaN</th>\n",
       "      <td>50.76</td>\n",
       "      <td>434.8</td>\n",
       "    </tr>\n",
       "    <tr>\n",
       "      <th>NaN</th>\n",
       "      <td>55.05</td>\n",
       "      <td>477.3</td>\n",
       "    </tr>\n",
       "    <tr>\n",
       "      <th>NaN</th>\n",
       "      <td>61.01</td>\n",
       "      <td>536.8</td>\n",
       "    </tr>\n",
       "    <tr>\n",
       "      <th>NaN</th>\n",
       "      <td>66.40</td>\n",
       "      <td>593.1</td>\n",
       "    </tr>\n",
       "    <tr>\n",
       "      <th>NaN</th>\n",
       "      <td>75.47</td>\n",
       "      <td>689.1</td>\n",
       "    </tr>\n",
       "    <tr>\n",
       "      <th>NaN</th>\n",
       "      <td>81.78</td>\n",
       "      <td>760.0</td>\n",
       "    </tr>\n",
       "  </tbody>\n",
       "</table>\n",
       "</div>"
      ],
      "text/plain": [
       "         y      x\n",
       "NaN  10.07   77.6\n",
       "NaN  14.73  114.9\n",
       "NaN  17.94  141.1\n",
       "NaN  23.93  190.8\n",
       "NaN  29.61  239.9\n",
       "NaN  35.18  289.0\n",
       "NaN  40.02  332.8\n",
       "NaN  44.82  378.4\n",
       "NaN  50.76  434.8\n",
       "NaN  55.05  477.3\n",
       "NaN  61.01  536.8\n",
       "NaN  66.40  593.1\n",
       "NaN  75.47  689.1\n",
       "NaN  81.78  760.0"
      ]
     },
     "execution_count": 53,
     "metadata": {},
     "output_type": "execute_result"
    }
   ],
   "source": [
    "data= pd.read_csv(\"Misra1b_Data.txt\",names=['y','x'], sep=\" \")\n",
    "\n",
    "data"
   ]
  },
  {
   "cell_type": "code",
   "execution_count": 54,
   "metadata": {},
   "outputs": [],
   "source": [
    "y = torch.from_numpy(data['y'].to_numpy(np.float64))\n",
    "x = torch.from_numpy(data['x'].to_numpy(np.float64))\n",
    "\n",
    "b = torch.tensor([500,0.0001],requires_grad=True)\n",
    "# b = torch.tensor([0.15,0.008,0.01],requires_grad=True)"
   ]
  },
  {
   "cell_type": "code",
   "execution_count": 55,
   "metadata": {},
   "outputs": [
    {
     "data": {
      "text/plain": [
       "[<matplotlib.lines.Line2D at 0x288eaae9310>]"
      ]
     },
     "execution_count": 55,
     "metadata": {},
     "output_type": "execute_result"
    },
    {
     "data": {
      "image/png": "[encoded data removed]",
      "text/plain": [
       "<Figure size 432x288 with 1 Axes>"
      ]
     },
     "metadata": {
      "needs_background": "light"
     },
     "output_type": "display_data"
    }
   ],
   "source": [
    "plt.plot(x.numpy(),y.numpy())"
   ]
  },
  {
   "cell_type": "code",
   "execution_count": 56,
   "metadata": {},
   "outputs": [
    {
     "name": "stdout",
     "output_type": "stream",
     "text": [
      "c:  0  error:  10994.317207569991  B: [[4.99914730e+02]\n",
      " [2.41760656e-04]]\n",
      "c:  1  error:  41.28473659566044  B: [[4.99886951e+02]\n",
      " [2.50591968e-04]]\n",
      "c:  2  error:  7.311471078570726  B: [[4.99590735e+02]\n",
      " [2.50794785e-04]]\n",
      "c:  3  error:  7.293250055004091  B: [[4.96659908e+02]\n",
      " [2.52421354e-04]]\n",
      "c:  4  error:  7.119409846322078  B: [[4.70298133e+02]\n",
      " [2.67251781e-04]]\n",
      "c:  5  error:  5.8884440364170665  B: [[3.56127705e+02]\n",
      " [3.40344529e-04]]\n",
      "c:  6  error:  138.05327918135347  B: [[3.33033445e+02]\n",
      " [3.92403663e-04]]\n",
      "c:  7  error:  3.605029034514967  B: [[3.37316976e+02]\n",
      " [3.91292472e-04]]\n",
      "c:  8  error:  0.07578962585208712  B: [[3.37983684e+02]\n",
      " [3.90407397e-04]]\n",
      "c:  9  error:  0.07546545452464613  B: [[3.37997404e+02]\n",
      " [3.90390990e-04]]\n",
      "c:  10  error:  0.07546468153555895  B: [[3.37997459e+02]\n",
      " [3.90390916e-04]]\n",
      "time taken to execute:  0.010779000000070482\n",
      "SD error is 0.0030664039840575226\n"
     ]
    }
   ],
   "source": [
    "## Numerical Differentiation\n",
    "\n",
    "b = np.array([500,0.0001]).reshape(-1,1)\n",
    "# b = np.array([0.7,4]).reshape(-1,1)\n",
    "\n",
    "x=x.detach().numpy()\n",
    "\n",
    "u=0.1 #beta multiply identity matrix\n",
    "beta = 10\n",
    "V_prev = 0\n",
    "\n",
    "\n",
    "\n",
    "def f0(b0):\n",
    "    return  b0*(1-np.power((1+b[1]*x/2),-2))-y.detach().numpy()  \n",
    "def f1(b1):\n",
    "    return  b[0]*(1-np.power((1+b1*x/2),-2))-y.detach().numpy()   \n",
    "\n",
    "start_time = time.perf_counter()   \n",
    "    \n",
    "for c in range(290):\n",
    "\n",
    "    y_pred = b[0]*(1-np.power((1+b[1]*x/2),-2))\n",
    "    error = (y_pred - y.detach().numpy()).reshape(-1,1)\n",
    "    \n",
    "    d_b0 = derivative(f0,b[0] , dx=1e-6)\n",
    "    d_b1 = derivative(f1,b[1] , dx=1e-6)\n",
    "    \n",
    "     \n",
    "    jacobian = np.transpose(np.array([d_b0,d_b1]))\n",
    "    dParam = np.matmul(np.matmul(np.linalg.inv((np.matmul(np.transpose(jacobian),jacobian)+u*np.identity(len(b)))),np.transpose(jacobian)),error)\n",
    "    b -= dParam\n",
    "    V = np.sum(np.square(error))\n",
    "    if(V > V_prev):\n",
    "            u *= beta\n",
    "    else:\n",
    "            u /= beta\n",
    "    V_prev = V\n",
    "    print(\"c: \",c,\" error: \",V,\" B:\", b)\n",
    "    \n",
    "    if V <  7.5464681553E-02:\n",
    "        break\n",
    "print(\"time taken to execute: \",time.perf_counter()-start_time)  \n",
    "print(\"SD error is\", np.std(np.square(error)))"
   ]
  },
  {
   "cell_type": "code",
   "execution_count": 57,
   "metadata": {},
   "outputs": [],
   "source": [
    "def Jacobian(loss,params,numParams):\n",
    "    \n",
    "    jacobian = torch.empty(len(loss), numParams) \n",
    "    \n",
    "    for i in range(len(loss)):\n",
    "        \n",
    "        loss[i].backward(retain_graph=True)\n",
    "        \n",
    "        for n in range(numParams):\n",
    "            jacobian[i][n] = params.grad[n]\n",
    "        params.grad.zero_()      \n",
    "    return jacobian    "
   ]
  },
  {
   "cell_type": "code",
   "execution_count": 58,
   "metadata": {},
   "outputs": [
    {
     "ename": "TypeError",
     "evalue": "pow() received an invalid combination of arguments - got (numpy.ndarray, int), but expected one of:\n * (Tensor input, Tensor exponent, *, Tensor out)\n * (Number self, Tensor exponent, *, Tensor out)\n * (Tensor input, Number exponent, *, Tensor out)\n",
     "output_type": "error",
     "traceback": [
      "\u001b[1;31m---------------------------------------------------------------------------\u001b[0m",
      "\u001b[1;31mTypeError\u001b[0m                                 Traceback (most recent call last)",
      "\u001b[1;32m<ipython-input-58-1489879ce89e>\u001b[0m in \u001b[0;36m<module>\u001b[1;34m\u001b[0m\n\u001b[0;32m      7\u001b[0m \u001b[1;32mfor\u001b[0m \u001b[0mc\u001b[0m \u001b[1;32min\u001b[0m \u001b[0mrange\u001b[0m\u001b[1;33m(\u001b[0m\u001b[1;36m200\u001b[0m\u001b[1;33m)\u001b[0m\u001b[1;33m:\u001b[0m\u001b[1;33m\u001b[0m\u001b[1;33m\u001b[0m\u001b[0m\n\u001b[0;32m      8\u001b[0m \u001b[1;33m\u001b[0m\u001b[0m\n\u001b[1;32m----> 9\u001b[1;33m     \u001b[0my_pred\u001b[0m \u001b[1;33m=\u001b[0m \u001b[0mb\u001b[0m\u001b[1;33m[\u001b[0m\u001b[1;36m0\u001b[0m\u001b[1;33m]\u001b[0m\u001b[1;33m*\u001b[0m\u001b[1;33m(\u001b[0m\u001b[1;36m1\u001b[0m\u001b[1;33m-\u001b[0m\u001b[0mtorch\u001b[0m\u001b[1;33m.\u001b[0m\u001b[0mpow\u001b[0m\u001b[1;33m(\u001b[0m\u001b[1;33m(\u001b[0m\u001b[1;36m1\u001b[0m\u001b[1;33m+\u001b[0m\u001b[0mb\u001b[0m\u001b[1;33m[\u001b[0m\u001b[1;36m1\u001b[0m\u001b[1;33m]\u001b[0m\u001b[1;33m*\u001b[0m\u001b[0mx\u001b[0m\u001b[1;33m/\u001b[0m\u001b[1;36m2\u001b[0m\u001b[1;33m)\u001b[0m\u001b[1;33m,\u001b[0m\u001b[1;33m-\u001b[0m\u001b[1;36m2\u001b[0m\u001b[1;33m)\u001b[0m\u001b[1;33m)\u001b[0m\u001b[1;33m\u001b[0m\u001b[1;33m\u001b[0m\u001b[0m\n\u001b[0m\u001b[0;32m     10\u001b[0m \u001b[1;33m\u001b[0m\u001b[0m\n\u001b[0;32m     11\u001b[0m     \u001b[0mloss\u001b[0m \u001b[1;33m=\u001b[0m \u001b[0my_pred\u001b[0m\u001b[1;33m-\u001b[0m\u001b[0my\u001b[0m\u001b[1;33m\u001b[0m\u001b[1;33m\u001b[0m\u001b[0m\n",
      "\u001b[1;31mTypeError\u001b[0m: pow() received an invalid combination of arguments - got (numpy.ndarray, int), but expected one of:\n * (Tensor input, Tensor exponent, *, Tensor out)\n * (Number self, Tensor exponent, *, Tensor out)\n * (Tensor input, Number exponent, *, Tensor out)\n"
     ]
    }
   ],
   "source": [
    "## Automatic Differentiation\n",
    "num_param = len(b)\n",
    "u=0.1 #beta multiply identity matrix\n",
    "beta = 10\n",
    "error_prev = 0\n",
    "start_time = time.perf_counter()\n",
    "for c in range(200):\n",
    "\n",
    "    y_pred = b[0]*(1-torch.pow((1+b[1]*x/2),-2))\n",
    "\n",
    "    loss = y_pred-y\n",
    "    error = torch.sum(torch.square(loss)) #residual sum of squares\n",
    "    print(\"\",c,\" error is: \",error.detach().numpy(),\" b is \", b.detach().numpy())\n",
    "    jacobian = Jacobian(loss,b,len(b))\n",
    "\n",
    "    dParam = torch.matmul(torch.matmul(torch.inverse(torch.matmul(torch.transpose(jacobian,-1,0),jacobian)+u*torch.eye(num_param, num_param)),torch.transpose(jacobian,-1,0)),loss.float())\n",
    "    with torch.no_grad():\n",
    "        b -=dParam\n",
    "    \n",
    "        if(error > error_prev):\n",
    "            u *= beta\n",
    "        else:\n",
    "            u /= beta\n",
    "        error_prev = error\n",
    "    if error<  7.5464681553E-02:#7.88539786689E+02:  given residual sum of squares\n",
    "        break\n",
    "print(\"time taken to execute: \",time.perf_counter()-start_time) \n",
    "print(\"SD error is\", np.std(np.square(loss.detach().numpy())))"
   ]
  },
  {
   "cell_type": "code",
   "execution_count": null,
   "metadata": {},
   "outputs": [],
   "source": [
    "plt.plot(y_pred.detach(),'g', y,'r')"
   ]
  },
  {
   "cell_type": "code",
   "execution_count": null,
   "metadata": {},
   "outputs": [],
   "source": [
    "\n",
    "        "
   ]
  },
  {
   "cell_type": "code",
   "execution_count": null,
   "metadata": {},
   "outputs": [],
   "source": []
  }
 ],
 "metadata": {
  "kernelspec": {
   "display_name": "Python 3",
   "language": "python",
   "name": "python3"
  },
  "language_info": {
   "codemirror_mode": {
    "name": "ipython",
    "version": 3
   },
   "file_extension": ".py",
   "mimetype": "text/x-python",
   "name": "python",
   "nbconvert_exporter": "python",
   "pygments_lexer": "ipython3",
   "version": "3.8.3"
  }
 },
 "nbformat": 4,
 "nbformat_minor": 4
}
